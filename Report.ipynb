{
 "cells": [
  {
   "cell_type": "markdown",
   "metadata": {},
   "source": [
    "# How do we eat???????\n",
    "\n",
    "**Milestone 2 of final project (Applied Data Analysis)**\n",
    "\n",
    "**Team: Salmon Tortilla al Pesto**\n",
    "\n",
    "This jupyter notebook correspond to one part (out of two) of the total report for this milestone. In this notebook we work on the [recpies dataset](http://pic2recipe.csail.mit.edu). Here we will import the dataset, analyize it, search for missing data, clean it, filter it, and start the analysis to ensure that everything is ok for the final milestone. Before starting with all the mentioned tasks, we will present the idea and objectives of this part of the project.\n",
    "\n",
    "Nowadays, huge advances in medicine and nutrition have led us to understand that the way we eat plays the most important role in our health. Following a diet rich in omega 6, for example, will lead us into different diseases, like cancer. Avoiding bad diets is “easily” achieved by eating a great variety of different food, at the same time as, minimizing the amount of unhealthy meals. However, things can get harder when we have certain restrictions or obligations in our diet, for instance, we have to counter a lack of iron or if we are vegan.\n",
    "\n",
    "In this part of the project, we will use the `Recipe1M+` dataset to find the correlation between ingredients and see which ingredients are more likely to appear together in a recipe. This way, we will investigate how some restriction or obligations in our diets can affect undesired raises in specific aliments. \n",
    "\n",
    "This are some of the questions we want to answer in this project:\n",
    "\n",
    "- What is the presence correlation between ingredients in recipes?\n",
    "- Are there increases/decreases in the consumption of some ingredients when fighting against a specific disease via nutrition?\n",
    "- Are there increases/decreases in the consumption of some ingredients when having restrictions in our diet?\n",
    "- Which recipes are recommended to fight against a specific disease while not resulting in an undesirable increase of some other ingredients?\n",
    "\n",
    "In this first approach, we will base our project in 5 specific nutrition situations:\n",
    "\n",
    "- Lactose intolerance\n",
    "- Gluten intolerance\n",
    "- Vegetarian diet\n",
    "- Countering lack of iron\n",
    "- Countering lack of omega 3\n",
    "\n",
    "\n",
    "\n",
    "## Table of contents\n",
    "\n",
    "**1. Analysis and cleaning of the datasets:** In this part we import the data, look for missing or/and NaN values, clean the data, format it if needed and filter it.\n",
    "\n",
    "**2. General analysis of the data:** Before going into the analysis we intent to do, we first do a more general analysis of the ingredients in recepies to obtain important information we will need for extracting the proper conclusions.\n",
    "\n",
    "**3. Correlation between ingredients:** In this part we start with the analysis of the correlation of ingredients to see what are we facing and if whether or not what we inteded to do is feasable.\n",
    "\n",
    "**4. Analysis of selected diets:** In this part we will really start with the project in order to see that everything is ok for the final report."
   ]
  },
  {
   "cell_type": "code",
   "execution_count": 1,
   "metadata": {},
   "outputs": [],
   "source": [
    "# Importing libraries\n",
    "%matplotlib inline\n",
    "import pandas as pd\n",
    "import numpy as np\n",
    "import re\n",
    "from matplotlib.ticker import MaxNLocator\n",
    "import matplotlib.pyplot as plt\n",
    "from requests import get\n",
    "from bs4 import BeautifulSoup\n",
    "import time\n",
    "import operator"
   ]
  },
  {
   "cell_type": "code",
   "execution_count": 2,
   "metadata": {},
   "outputs": [],
   "source": [
    "# For beauty printing\n",
    "class color:\n",
    "    PURPLE = '\\033[95m'\n",
    "    CYAN = '\\033[96m'\n",
    "    DARKCYAN = '\\033[36m'\n",
    "    BLUE = '\\033[94m'\n",
    "    GREEN = '\\033[92m'\n",
    "    YELLOW = '\\033[93m'\n",
    "    RED = '\\033[91m'\n",
    "    BOLD = '\\033[1m'\n",
    "    UNDERLINE = '\\033[4m'\n",
    "    END = '\\033[0m'"
   ]
  },
  {
   "cell_type": "code",
   "execution_count": 3,
   "metadata": {},
   "outputs": [],
   "source": [
    "# Main printing function\n",
    "def printMain(to_print):\n",
    "    print(color.BLUE + color.BOLD + to_print + color.END)"
   ]
  },
  {
   "cell_type": "markdown",
   "metadata": {},
   "source": [
    "## 1) Analysis and cleaning of the datasets\n",
    "\n",
    "In this first section we get the datasets into pandas and analyise the structure and the content of them. The we find and handle NaN and missing values, cleand and format the data, and filter it to remove unnecesary features or items. Finally we adapt the data for the following analysis.\n",
    "\n",
    "We have two datasets: `layer1.json` that has information about list of recepies, and `det_ingrs.json` with the ingredients of the recepies from the previous dataset in a cleaner way.\n",
    "\n",
    "### Importing the data\n",
    "First of all, lets import both datasets and analyse them."
   ]
  },
  {
   "cell_type": "code",
   "execution_count": 4,
   "metadata": {},
   "outputs": [
    {
     "name": "stdout",
     "output_type": "stream",
     "text": [
      "(Time: 45.91 seconds)\n",
      "\u001b[94m\u001b[1mlayer1.json dataset:\u001b[0m\n"
     ]
    },
    {
     "data": {
      "text/html": [
       "<div>\n",
       "<style scoped>\n",
       "    .dataframe tbody tr th:only-of-type {\n",
       "        vertical-align: middle;\n",
       "    }\n",
       "\n",
       "    .dataframe tbody tr th {\n",
       "        vertical-align: top;\n",
       "    }\n",
       "\n",
       "    .dataframe thead th {\n",
       "        text-align: right;\n",
       "    }\n",
       "</style>\n",
       "<table border=\"1\" class=\"dataframe\">\n",
       "  <thead>\n",
       "    <tr style=\"text-align: right;\">\n",
       "      <th></th>\n",
       "      <th>ingredients</th>\n",
       "      <th>url</th>\n",
       "      <th>partition</th>\n",
       "      <th>title</th>\n",
       "      <th>id</th>\n",
       "      <th>instructions</th>\n",
       "    </tr>\n",
       "  </thead>\n",
       "  <tbody>\n",
       "    <tr>\n",
       "      <td>0</td>\n",
       "      <td>[{'text': '6 ounces penne'}, {'text': '2 cups ...</td>\n",
       "      <td>http://www.epicurious.com/recipes/food/views/-...</td>\n",
       "      <td>train</td>\n",
       "      <td>Worlds Best Mac and Cheese</td>\n",
       "      <td>000018c8a5</td>\n",
       "      <td>[{'text': 'Preheat the oven to 350 F. Butter o...</td>\n",
       "    </tr>\n",
       "    <tr>\n",
       "      <td>1</td>\n",
       "      <td>[{'text': '1 c. elbow macaroni'}, {'text': '1 ...</td>\n",
       "      <td>http://cookeatshare.com/recipes/dilly-macaroni...</td>\n",
       "      <td>train</td>\n",
       "      <td>Dilly Macaroni Salad Recipe</td>\n",
       "      <td>000033e39b</td>\n",
       "      <td>[{'text': 'Cook macaroni according to package ...</td>\n",
       "    </tr>\n",
       "    <tr>\n",
       "      <td>2</td>\n",
       "      <td>[{'text': '8 tomatoes, quartered'}, {'text': '...</td>\n",
       "      <td>http://www.foodnetwork.com/recipes/gazpacho1.html</td>\n",
       "      <td>train</td>\n",
       "      <td>Gazpacho</td>\n",
       "      <td>000035f7ed</td>\n",
       "      <td>[{'text': 'Add the tomatoes to a food processo...</td>\n",
       "    </tr>\n",
       "    <tr>\n",
       "      <td>3</td>\n",
       "      <td>[{'text': '2 12 cups milk'}, {'text': '1 12 cu...</td>\n",
       "      <td>http://www.food.com/recipe/crunchy-onion-potat...</td>\n",
       "      <td>test</td>\n",
       "      <td>Crunchy Onion Potato Bake</td>\n",
       "      <td>00003a70b1</td>\n",
       "      <td>[{'text': 'Preheat oven to 350 degrees Fahrenh...</td>\n",
       "    </tr>\n",
       "    <tr>\n",
       "      <td>4</td>\n",
       "      <td>[{'text': '1 (3 ounce) package watermelon gela...</td>\n",
       "      <td>http://www.food.com/recipe/cool-n-easy-creamy-...</td>\n",
       "      <td>train</td>\n",
       "      <td>Cool 'n Easy Creamy Watermelon Pie</td>\n",
       "      <td>00004320bb</td>\n",
       "      <td>[{'text': 'Dissolve Jello in boiling water.'},...</td>\n",
       "    </tr>\n",
       "  </tbody>\n",
       "</table>\n",
       "</div>"
      ],
      "text/plain": [
       "                                         ingredients  \\\n",
       "0  [{'text': '6 ounces penne'}, {'text': '2 cups ...   \n",
       "1  [{'text': '1 c. elbow macaroni'}, {'text': '1 ...   \n",
       "2  [{'text': '8 tomatoes, quartered'}, {'text': '...   \n",
       "3  [{'text': '2 12 cups milk'}, {'text': '1 12 cu...   \n",
       "4  [{'text': '1 (3 ounce) package watermelon gela...   \n",
       "\n",
       "                                                 url partition  \\\n",
       "0  http://www.epicurious.com/recipes/food/views/-...     train   \n",
       "1  http://cookeatshare.com/recipes/dilly-macaroni...     train   \n",
       "2  http://www.foodnetwork.com/recipes/gazpacho1.html     train   \n",
       "3  http://www.food.com/recipe/crunchy-onion-potat...      test   \n",
       "4  http://www.food.com/recipe/cool-n-easy-creamy-...     train   \n",
       "\n",
       "                                title          id  \\\n",
       "0          Worlds Best Mac and Cheese  000018c8a5   \n",
       "1         Dilly Macaroni Salad Recipe  000033e39b   \n",
       "2                            Gazpacho  000035f7ed   \n",
       "3           Crunchy Onion Potato Bake  00003a70b1   \n",
       "4  Cool 'n Easy Creamy Watermelon Pie  00004320bb   \n",
       "\n",
       "                                        instructions  \n",
       "0  [{'text': 'Preheat the oven to 350 F. Butter o...  \n",
       "1  [{'text': 'Cook macaroni according to package ...  \n",
       "2  [{'text': 'Add the tomatoes to a food processo...  \n",
       "3  [{'text': 'Preheat oven to 350 degrees Fahrenh...  \n",
       "4  [{'text': 'Dissolve Jello in boiling water.'},...  "
      ]
     },
     "execution_count": 4,
     "metadata": {},
     "output_type": "execute_result"
    }
   ],
   "source": [
    "# Importing layer1.json\n",
    "initial_time = time.time()\n",
    "df_recepies = pd.read_json('data/layer1.json')\n",
    "print(\"(Time:\", round(time.time() - initial_time, 2), \"seconds)\")\n",
    "printMain(\"layer1.json dataset:\")\n",
    "df_recepies.head()"
   ]
  },
  {
   "cell_type": "code",
   "execution_count": 5,
   "metadata": {},
   "outputs": [
    {
     "name": "stdout",
     "output_type": "stream",
     "text": [
      "(Time: 17.38 seconds)\n",
      "\u001b[94m\u001b[1mdet_ingrs.json dataset:\u001b[0m\n"
     ]
    },
    {
     "data": {
      "text/html": [
       "<div>\n",
       "<style scoped>\n",
       "    .dataframe tbody tr th:only-of-type {\n",
       "        vertical-align: middle;\n",
       "    }\n",
       "\n",
       "    .dataframe tbody tr th {\n",
       "        vertical-align: top;\n",
       "    }\n",
       "\n",
       "    .dataframe thead th {\n",
       "        text-align: right;\n",
       "    }\n",
       "</style>\n",
       "<table border=\"1\" class=\"dataframe\">\n",
       "  <thead>\n",
       "    <tr style=\"text-align: right;\">\n",
       "      <th></th>\n",
       "      <th>valid</th>\n",
       "      <th>id</th>\n",
       "      <th>ingredients</th>\n",
       "    </tr>\n",
       "  </thead>\n",
       "  <tbody>\n",
       "    <tr>\n",
       "      <td>0</td>\n",
       "      <td>[True, True, True, True, True, True, True, Tru...</td>\n",
       "      <td>000018c8a5</td>\n",
       "      <td>[{'text': 'penne'}, {'text': 'cheese sauce'}, ...</td>\n",
       "    </tr>\n",
       "    <tr>\n",
       "      <td>1</td>\n",
       "      <td>[True, True, True, True, True, True, True, Tru...</td>\n",
       "      <td>000033e39b</td>\n",
       "      <td>[{'text': 'elbow macaroni'}, {'text': 'America...</td>\n",
       "    </tr>\n",
       "    <tr>\n",
       "      <td>2</td>\n",
       "      <td>[True, True, True, True, True, True, True, Tru...</td>\n",
       "      <td>000035f7ed</td>\n",
       "      <td>[{'text': 'tomatoes'}, {'text': 'kosher salt'}...</td>\n",
       "    </tr>\n",
       "    <tr>\n",
       "      <td>3</td>\n",
       "      <td>[True, True, True, True, True, True, True]</td>\n",
       "      <td>00003a70b1</td>\n",
       "      <td>[{'text': 'milk'}, {'text': 'water'}, {'text':...</td>\n",
       "    </tr>\n",
       "    <tr>\n",
       "      <td>4</td>\n",
       "      <td>[True, True, True, True, True]</td>\n",
       "      <td>00004320bb</td>\n",
       "      <td>[{'text': 'watermelon gelatin'}, {'text': 'boi...</td>\n",
       "    </tr>\n",
       "  </tbody>\n",
       "</table>\n",
       "</div>"
      ],
      "text/plain": [
       "                                               valid          id  \\\n",
       "0  [True, True, True, True, True, True, True, Tru...  000018c8a5   \n",
       "1  [True, True, True, True, True, True, True, Tru...  000033e39b   \n",
       "2  [True, True, True, True, True, True, True, Tru...  000035f7ed   \n",
       "3         [True, True, True, True, True, True, True]  00003a70b1   \n",
       "4                     [True, True, True, True, True]  00004320bb   \n",
       "\n",
       "                                         ingredients  \n",
       "0  [{'text': 'penne'}, {'text': 'cheese sauce'}, ...  \n",
       "1  [{'text': 'elbow macaroni'}, {'text': 'America...  \n",
       "2  [{'text': 'tomatoes'}, {'text': 'kosher salt'}...  \n",
       "3  [{'text': 'milk'}, {'text': 'water'}, {'text':...  \n",
       "4  [{'text': 'watermelon gelatin'}, {'text': 'boi...  "
      ]
     },
     "execution_count": 5,
     "metadata": {},
     "output_type": "execute_result"
    }
   ],
   "source": [
    "# Importing det_ingrs.json\n",
    "initial_time = time.time()\n",
    "df_ingredients = pd.read_json('data/det_ingrs.json')\n",
    "print(\"(Time:\", round(time.time() - initial_time, 2), \"seconds)\")\n",
    "printMain(\"det_ingrs.json dataset:\")\n",
    "df_ingredients.head()"
   ]
  },
  {
   "cell_type": "markdown",
   "metadata": {},
   "source": [
    "We can see that the first dataset has no information interesting for our analysis so far. The title, url and insturctions are not useful for us, and the ingridients will be taken from the `df_ingredients` as they are more clean, and so, easier to use. We delete the first dataFrame."
   ]
  },
  {
   "cell_type": "code",
   "execution_count": 6,
   "metadata": {},
   "outputs": [],
   "source": [
    "# Deleting the first dataset\n",
    "del df_recepies "
   ]
  },
  {
   "cell_type": "markdown",
   "metadata": {},
   "source": [
    "### Removing unnecessary data\n",
    "\n",
    "In the `df_ingredients` we have 3 columns. The `ingredients` column is the most important one. `id` columns will be kept in the dataset, just in case we need to relate the two datasets in the future. The `valid` column will be deleted as it is not needed. Let's delete that feature."
   ]
  },
  {
   "cell_type": "code",
   "execution_count": 7,
   "metadata": {},
   "outputs": [
    {
     "data": {
      "text/html": [
       "<div>\n",
       "<style scoped>\n",
       "    .dataframe tbody tr th:only-of-type {\n",
       "        vertical-align: middle;\n",
       "    }\n",
       "\n",
       "    .dataframe tbody tr th {\n",
       "        vertical-align: top;\n",
       "    }\n",
       "\n",
       "    .dataframe thead th {\n",
       "        text-align: right;\n",
       "    }\n",
       "</style>\n",
       "<table border=\"1\" class=\"dataframe\">\n",
       "  <thead>\n",
       "    <tr style=\"text-align: right;\">\n",
       "      <th></th>\n",
       "      <th>id</th>\n",
       "      <th>ingredients</th>\n",
       "    </tr>\n",
       "  </thead>\n",
       "  <tbody>\n",
       "    <tr>\n",
       "      <td>0</td>\n",
       "      <td>000018c8a5</td>\n",
       "      <td>[{'text': 'penne'}, {'text': 'cheese sauce'}, ...</td>\n",
       "    </tr>\n",
       "    <tr>\n",
       "      <td>1</td>\n",
       "      <td>000033e39b</td>\n",
       "      <td>[{'text': 'elbow macaroni'}, {'text': 'America...</td>\n",
       "    </tr>\n",
       "    <tr>\n",
       "      <td>2</td>\n",
       "      <td>000035f7ed</td>\n",
       "      <td>[{'text': 'tomatoes'}, {'text': 'kosher salt'}...</td>\n",
       "    </tr>\n",
       "    <tr>\n",
       "      <td>3</td>\n",
       "      <td>00003a70b1</td>\n",
       "      <td>[{'text': 'milk'}, {'text': 'water'}, {'text':...</td>\n",
       "    </tr>\n",
       "    <tr>\n",
       "      <td>4</td>\n",
       "      <td>00004320bb</td>\n",
       "      <td>[{'text': 'watermelon gelatin'}, {'text': 'boi...</td>\n",
       "    </tr>\n",
       "  </tbody>\n",
       "</table>\n",
       "</div>"
      ],
      "text/plain": [
       "           id                                        ingredients\n",
       "0  000018c8a5  [{'text': 'penne'}, {'text': 'cheese sauce'}, ...\n",
       "1  000033e39b  [{'text': 'elbow macaroni'}, {'text': 'America...\n",
       "2  000035f7ed  [{'text': 'tomatoes'}, {'text': 'kosher salt'}...\n",
       "3  00003a70b1  [{'text': 'milk'}, {'text': 'water'}, {'text':...\n",
       "4  00004320bb  [{'text': 'watermelon gelatin'}, {'text': 'boi..."
      ]
     },
     "execution_count": 7,
     "metadata": {},
     "output_type": "execute_result"
    }
   ],
   "source": [
    "df_ingredients = df_ingredients.drop(columns=['valid'])\n",
    "df_ingredients.head()"
   ]
  },
  {
   "cell_type": "markdown",
   "metadata": {},
   "source": [
    "### Reformating data\n",
    "\n",
    "We can also see that the `ingredients` column is not good formated. It will be more useful to have only a list of the ingredient of each recepie. Let's format it."
   ]
  },
  {
   "cell_type": "code",
   "execution_count": 8,
   "metadata": {},
   "outputs": [
    {
     "name": "stdout",
     "output_type": "stream",
     "text": [
      "(Time: 4.21 seconds)\n",
      "\u001b[94m\u001b[1mdet_ingrs.json dataset after cleaning:\u001b[0m\n"
     ]
    },
    {
     "data": {
      "text/html": [
       "<div>\n",
       "<style scoped>\n",
       "    .dataframe tbody tr th:only-of-type {\n",
       "        vertical-align: middle;\n",
       "    }\n",
       "\n",
       "    .dataframe tbody tr th {\n",
       "        vertical-align: top;\n",
       "    }\n",
       "\n",
       "    .dataframe thead th {\n",
       "        text-align: right;\n",
       "    }\n",
       "</style>\n",
       "<table border=\"1\" class=\"dataframe\">\n",
       "  <thead>\n",
       "    <tr style=\"text-align: right;\">\n",
       "      <th></th>\n",
       "      <th>id</th>\n",
       "      <th>ingredients</th>\n",
       "    </tr>\n",
       "  </thead>\n",
       "  <tbody>\n",
       "    <tr>\n",
       "      <td>0</td>\n",
       "      <td>000018c8a5</td>\n",
       "      <td>[penne, cheese sauce, cheddar cheese, gruyere ...</td>\n",
       "    </tr>\n",
       "    <tr>\n",
       "      <td>1</td>\n",
       "      <td>000033e39b</td>\n",
       "      <td>[elbow macaroni, American cheese, celery, gree...</td>\n",
       "    </tr>\n",
       "    <tr>\n",
       "      <td>2</td>\n",
       "      <td>000035f7ed</td>\n",
       "      <td>[tomatoes, kosher salt, red onion, green bell ...</td>\n",
       "    </tr>\n",
       "    <tr>\n",
       "      <td>3</td>\n",
       "      <td>00003a70b1</td>\n",
       "      <td>[milk, water, butter, mashed potatoes, whole k...</td>\n",
       "    </tr>\n",
       "    <tr>\n",
       "      <td>4</td>\n",
       "      <td>00004320bb</td>\n",
       "      <td>[watermelon gelatin, boiling water, Cool Whip,...</td>\n",
       "    </tr>\n",
       "  </tbody>\n",
       "</table>\n",
       "</div>"
      ],
      "text/plain": [
       "           id                                        ingredients\n",
       "0  000018c8a5  [penne, cheese sauce, cheddar cheese, gruyere ...\n",
       "1  000033e39b  [elbow macaroni, American cheese, celery, gree...\n",
       "2  000035f7ed  [tomatoes, kosher salt, red onion, green bell ...\n",
       "3  00003a70b1  [milk, water, butter, mashed potatoes, whole k...\n",
       "4  00004320bb  [watermelon gelatin, boiling water, Cool Whip,..."
      ]
     },
     "execution_count": 8,
     "metadata": {},
     "output_type": "execute_result"
    }
   ],
   "source": [
    "def convert_to_array(ingredients_json):\n",
    "    to_return = []\n",
    "    for ingredient in ingredients_json:\n",
    "        to_return.append(ingredient['text'])\n",
    "    return to_return\n",
    "\n",
    "initial_time = time.time()\n",
    "df_ingredients['ingredients'] = df_ingredients['ingredients'].apply(convert_to_array)\n",
    "print(\"(Time:\", round(time.time() - initial_time, 2), \"seconds)\")\n",
    "printMain(\"det_ingrs.json dataset after cleaning:\")\n",
    "df_ingredients.head()"
   ]
  },
  {
   "cell_type": "markdown",
   "metadata": {},
   "source": [
    "### Dealing with missing data\n",
    "\n",
    "Before moving on, let's look if the dataframe has NaN data or empty list of ingredients:"
   ]
  },
  {
   "cell_type": "code",
   "execution_count": 9,
   "metadata": {},
   "outputs": [
    {
     "name": "stdout",
     "output_type": "stream",
     "text": [
      "\u001b[94m\u001b[1mAre there any null values?\u001b[0m\n"
     ]
    },
    {
     "data": {
      "text/plain": [
       "False"
      ]
     },
     "execution_count": 9,
     "metadata": {},
     "output_type": "execute_result"
    }
   ],
   "source": [
    "# Looking for NaN values\n",
    "printMain(\"Are there any null values?\")\n",
    "df_ingredients.isnull().values.any()"
   ]
  },
  {
   "cell_type": "code",
   "execution_count": 10,
   "metadata": {
    "scrolled": true
   },
   "outputs": [
    {
     "name": "stdout",
     "output_type": "stream",
     "text": [
      "\u001b[94m\u001b[1mWhat is the number of empty ingredient lists?\u001b[0m\n"
     ]
    },
    {
     "data": {
      "text/plain": [
       "0"
      ]
     },
     "execution_count": 10,
     "metadata": {},
     "output_type": "execute_result"
    }
   ],
   "source": [
    "# Looking for empty lists\n",
    "df_empty_rows = df_ingredients[df_ingredients['ingredients'].map(lambda d: len(d)) == 0]\n",
    "printMain(\"What is the number of empty ingredient lists?\")\n",
    "len(df_empty_rows)"
   ]
  },
  {
   "cell_type": "markdown",
   "metadata": {},
   "source": [
    "We can see that there are no missing or empty values. Nothing to clean or fill."
   ]
  },
  {
   "cell_type": "markdown",
   "metadata": {},
   "source": [
    "### Filtering ingredients\n",
    "\n",
    "Now we have the dataframe with the list of ingredients we wanted. However we realized that some ingredients were not properly cleaned as expected. Let's see what it is exactly the problem.\n",
    "\n",
    "For this, let's make a list of all the ingredients that appear at least once in the dataframe."
   ]
  },
  {
   "cell_type": "code",
   "execution_count": 11,
   "metadata": {},
   "outputs": [
    {
     "name": "stdout",
     "output_type": "stream",
     "text": [
      "(Time: 2.86 seconds)\n",
      "\u001b[94m\u001b[1mAmount of different ingredients: 170532\u001b[0m\n"
     ]
    }
   ],
   "source": [
    "# Ingridients unique \n",
    "initial_time = time.time()\n",
    "list_ingredients = []\n",
    " \n",
    "for row in df_ingredients.itertuples():\n",
    "    list_ingredients.extend(row[2])\n",
    "\n",
    "list_ingredients = list(set(list_ingredients))    \n",
    "print(\"(Time:\", round(time.time() - initial_time, 2), \"seconds)\")\n",
    "printMain(\"Amount of different ingredients: \" + str(len(list_ingredients)))"
   ]
  },
  {
   "cell_type": "code",
   "execution_count": 12,
   "metadata": {
    "scrolled": true
   },
   "outputs": [
    {
     "data": {
      "text/plain": [
       "['1 sm. can green minced chilies',\n",
       " 'semisweet chocolate bars',\n",
       " '1 [Apple]',\n",
       " 'veal sausage',\n",
       " '6 frico (see recipe below)',\n",
       " '1 package (1 Oz. Size) McCormick Grill Mates Baja Citrus Marinade Mix',\n",
       " '1 ounce Cocchi Americano (fortified, slightly bitter aperitif wine)',\n",
       " '3/4 cup (175 ml) plus 1 tbsp (15 ml) unsweetened orange juice CONCENTRATE(Minute Maid reduced acid)',\n",
       " '1 box frzn minced spinach - (10 ounce) thawed',\n",
       " '1 pk chocolate kisses']"
      ]
     },
     "execution_count": 12,
     "metadata": {},
     "output_type": "execute_result"
    }
   ],
   "source": [
    "# Let's print a few of the ingredients\n",
    "list_ingredients[-10:]"
   ]
  },
  {
   "cell_type": "markdown",
   "metadata": {},
   "source": [
    "We can see in the above cell that some ingredients are still not properly cleaned. For example, the fifth ingredient printed `3 Packages frzn broccoli`, should be seen as `broccoli` as we do not care about the ammount a we need the ingredients that are the same to be the same string. This is important for the future analysis. \n",
    "\n",
    "In order to avoid having this ingredients we decided to reduce the number of recepies we have, deleting all the recepies that have this \"not-cleaned\" ingredients. To identify this \"not-cleaned\" ingredients, we suppose that are does that appear in less than 50 recepies (is hard that an ingredient that is not cleaned appears more). \n",
    "\n",
    "Let's first see how many recepies we have in total before doing the cleaning."
   ]
  },
  {
   "cell_type": "code",
   "execution_count": 13,
   "metadata": {},
   "outputs": [
    {
     "name": "stdout",
     "output_type": "stream",
     "text": [
      "\u001b[94m\u001b[1mNumber of recepies: 1029720\u001b[0m\n"
     ]
    }
   ],
   "source": [
    "printMain(\"Number of recepies: \" + str(len(df_ingredients)))"
   ]
  },
  {
   "cell_type": "code",
   "execution_count": 14,
   "metadata": {},
   "outputs": [
    {
     "name": "stdout",
     "output_type": "stream",
     "text": [
      "(Time: 4.34 seconds)\n"
     ]
    }
   ],
   "source": [
    "# First, let's put the ingredients into a dictionary\n",
    "initial_time = time.time()\n",
    "dic_ingredients = {}\n",
    " \n",
    "for row in df_ingredients.itertuples():\n",
    "    for ing in row[2]:\n",
    "        if ing in dic_ingredients:\n",
    "            dic_ingredients[ing] += 1\n",
    "        else:\n",
    "            dic_ingredients[ing] = 1\n",
    "\n",
    "print(\"(Time:\", round(time.time() - initial_time, 2), \"seconds)\")"
   ]
  },
  {
   "cell_type": "code",
   "execution_count": 35,
   "metadata": {},
   "outputs": [
    {
     "name": "stdout",
     "output_type": "stream",
     "text": [
      "(Time: 0.04 seconds)\n",
      "\u001b[94m\u001b[1mNumber of ingredients that appear more than 50 times: 5808\u001b[0m\n"
     ]
    }
   ],
   "source": [
    "# Creating a list of ingredients that appear more than 50 times\n",
    "initial_time = time.time()\n",
    "max_ingredients = []\n",
    "for k, v in dic_ingredients.items():\n",
    "    if v > 50:\n",
    "        max_ingredients.append(k)\n",
    "print(\"(Time:\", round(time.time() - initial_time, 2), \"seconds)\")\n",
    "printMain(\"Number of ingredients that appear more than 50 times: \" + str(len(max_ingredients)))"
   ]
  },
  {
   "cell_type": "code",
   "execution_count": 36,
   "metadata": {},
   "outputs": [
    {
     "name": "stdout",
     "output_type": "stream",
     "text": [
      "(Time: 79.61 seconds)\n",
      "\u001b[94m\u001b[1mNumber of recepies: 781268\u001b[0m\n"
     ]
    }
   ],
   "source": [
    "# Deleting the recepies with \"not-cleaned\" ingredients\n",
    "def deleting_rcepies_with_strange_ingredients(x):\n",
    "    for i in x:\n",
    "        if i not in max_ingredients:\n",
    "            return False\n",
    "    return True\n",
    "\n",
    "initial_time = time.time()\n",
    "df_ingredients = df_ingredients[df_ingredients[\"ingredients\"].apply(deleting_rcepies_with_strange_ingredients)]\n",
    "print(\"(Time:\", round(time.time() - initial_time, 2), \"seconds)\")\n",
    "printMain(\"Number of recepies: \" + str(len(df_ingredients)))"
   ]
  },
  {
   "cell_type": "markdown",
   "metadata": {},
   "source": [
    "We can see we go from little more than 1 million of recepies, to nearly 800.000 recepies. So, eventhough we loose more than 200.000 recepies, it is not critical for the purpose of the project. We still have enough data for the analysis we ment to carry on. \n",
    "\n",
    "### Selecting ingredients for future analysis\n",
    "\n",
    "Before moving on to the next part, we want to mention that we are going to base our analysis in only a small set of the 5808 ingredients, in the 300 most important. Doing the analysis in all of the ingredients would be time consuming and also irrelevant."
   ]
  },
  {
   "cell_type": "code",
   "execution_count": 44,
   "metadata": {},
   "outputs": [
    {
     "name": "stdout",
     "output_type": "stream",
     "text": [
      "(Time: 3.48 seconds)\n"
     ]
    }
   ],
   "source": [
    "# First, we recalculate the dictionary of ingredients\n",
    "initial_time = time.time()\n",
    "dic_ingredients = {}\n",
    " \n",
    "for row in df_ingredients.itertuples():\n",
    "    for ing in row[2]:\n",
    "        if ing in dic_ingredients:\n",
    "            dic_ingredients[ing] += 1\n",
    "        else:\n",
    "            dic_ingredients[ing] = 1\n",
    "\n",
    "print(\"(Time:\", round(time.time() - initial_time, 2), \"seconds)\")"
   ]
  },
  {
   "cell_type": "code",
   "execution_count": 45,
   "metadata": {},
   "outputs": [
    {
     "name": "stdout",
     "output_type": "stream",
     "text": [
      "(Time: 0.03 seconds)\n",
      "\u001b[94m\u001b[1mTop 5 ingredients: ['salt', 'butter', 'sugar', 'olive oil', 'eggs', 'water', 'garlic cloves', 'milk', 'flour', 'all - purpose flour']\u001b[0m\n"
     ]
    }
   ],
   "source": [
    "# Selecting the ingredients\n",
    "initial_time = time.time()\n",
    "sorted_ingredients = sorted(dic_ingredients.items(), key=operator.itemgetter(1), reverse=True)\n",
    "sorted_ingredients_300 = sorted_ingredients[:300]\n",
    "ingredients = []\n",
    "for i in sorted_ingredients_300:\n",
    "    ingredients.append(i[0])\n",
    "print(\"(Time:\", round(time.time() - initial_time, 2), \"seconds)\")\n",
    "printMain(\"Top 5 ingredients: \" + str(ingredients[:10]))"
   ]
  },
  {
   "cell_type": "markdown",
   "metadata": {},
   "source": [
    "### Adding new necessary data\n",
    "\n",
    "For the 300 ingredients we want to analyze, we want to now if they are recommended or avoided by the 5 diets we are studing. This work cannot be done automatically, therefore, we proceed to export the 300 ingredients to an Excel file, add the necessary information to it, and reimport it to the notebook as a dataFrame for future analysis."
   ]
  },
  {
   "cell_type": "code",
   "execution_count": 47,
   "metadata": {},
   "outputs": [],
   "source": [
    "# Exporting the data\n",
    "pd.DataFrame(sorted_ingredients_300).to_excel('data/ingredients_without_analysis.xlsx', header=False, index=False)"
   ]
  },
  {
   "cell_type": "code",
   "execution_count": 48,
   "metadata": {},
   "outputs": [
    {
     "name": "stdout",
     "output_type": "stream",
     "text": [
      "(Time: 0.07 seconds)\n",
      "\u001b[94m\u001b[1mDataFrame of top 300 ingredients: \u001b[0m\n"
     ]
    },
    {
     "data": {
      "text/html": [
       "<div>\n",
       "<style scoped>\n",
       "    .dataframe tbody tr th:only-of-type {\n",
       "        vertical-align: middle;\n",
       "    }\n",
       "\n",
       "    .dataframe tbody tr th {\n",
       "        vertical-align: top;\n",
       "    }\n",
       "\n",
       "    .dataframe thead th {\n",
       "        text-align: right;\n",
       "    }\n",
       "</style>\n",
       "<table border=\"1\" class=\"dataframe\">\n",
       "  <thead>\n",
       "    <tr style=\"text-align: right;\">\n",
       "      <th></th>\n",
       "      <th>Amount</th>\n",
       "      <th>Lactose</th>\n",
       "      <th>Gluten</th>\n",
       "      <th>Vegetarian</th>\n",
       "      <th>Iron</th>\n",
       "      <th>Omega 3</th>\n",
       "      <th>Strange</th>\n",
       "    </tr>\n",
       "    <tr>\n",
       "      <th>Ingredient</th>\n",
       "      <th></th>\n",
       "      <th></th>\n",
       "      <th></th>\n",
       "      <th></th>\n",
       "      <th></th>\n",
       "      <th></th>\n",
       "      <th></th>\n",
       "    </tr>\n",
       "  </thead>\n",
       "  <tbody>\n",
       "    <tr>\n",
       "      <td>salt</td>\n",
       "      <td>292619</td>\n",
       "      <td>1</td>\n",
       "      <td>1</td>\n",
       "      <td>1</td>\n",
       "      <td>0</td>\n",
       "      <td>0</td>\n",
       "      <td>0</td>\n",
       "    </tr>\n",
       "    <tr>\n",
       "      <td>butter</td>\n",
       "      <td>192640</td>\n",
       "      <td>0</td>\n",
       "      <td>0</td>\n",
       "      <td>1</td>\n",
       "      <td>0</td>\n",
       "      <td>0</td>\n",
       "      <td>0</td>\n",
       "    </tr>\n",
       "    <tr>\n",
       "      <td>sugar</td>\n",
       "      <td>173642</td>\n",
       "      <td>1</td>\n",
       "      <td>1</td>\n",
       "      <td>1</td>\n",
       "      <td>0</td>\n",
       "      <td>0</td>\n",
       "      <td>0</td>\n",
       "    </tr>\n",
       "    <tr>\n",
       "      <td>olive oil</td>\n",
       "      <td>131961</td>\n",
       "      <td>1</td>\n",
       "      <td>1</td>\n",
       "      <td>1</td>\n",
       "      <td>0</td>\n",
       "      <td>0</td>\n",
       "      <td>0</td>\n",
       "    </tr>\n",
       "    <tr>\n",
       "      <td>eggs</td>\n",
       "      <td>122748</td>\n",
       "      <td>1</td>\n",
       "      <td>1</td>\n",
       "      <td>1</td>\n",
       "      <td>0</td>\n",
       "      <td>0</td>\n",
       "      <td>0</td>\n",
       "    </tr>\n",
       "    <tr>\n",
       "      <td>water</td>\n",
       "      <td>117601</td>\n",
       "      <td>1</td>\n",
       "      <td>1</td>\n",
       "      <td>1</td>\n",
       "      <td>1</td>\n",
       "      <td>1</td>\n",
       "      <td>0</td>\n",
       "    </tr>\n",
       "    <tr>\n",
       "      <td>garlic cloves</td>\n",
       "      <td>102192</td>\n",
       "      <td>1</td>\n",
       "      <td>1</td>\n",
       "      <td>1</td>\n",
       "      <td>0</td>\n",
       "      <td>0</td>\n",
       "      <td>0</td>\n",
       "    </tr>\n",
       "    <tr>\n",
       "      <td>milk</td>\n",
       "      <td>85206</td>\n",
       "      <td>0</td>\n",
       "      <td>1</td>\n",
       "      <td>1</td>\n",
       "      <td>0</td>\n",
       "      <td>0</td>\n",
       "      <td>0</td>\n",
       "    </tr>\n",
       "    <tr>\n",
       "      <td>flour</td>\n",
       "      <td>84711</td>\n",
       "      <td>1</td>\n",
       "      <td>0</td>\n",
       "      <td>1</td>\n",
       "      <td>0</td>\n",
       "      <td>0</td>\n",
       "      <td>1</td>\n",
       "    </tr>\n",
       "    <tr>\n",
       "      <td>all - purpose flour</td>\n",
       "      <td>80786</td>\n",
       "      <td>1</td>\n",
       "      <td>0</td>\n",
       "      <td>1</td>\n",
       "      <td>0</td>\n",
       "      <td>0</td>\n",
       "      <td>1</td>\n",
       "    </tr>\n",
       "  </tbody>\n",
       "</table>\n",
       "</div>"
      ],
      "text/plain": [
       "                     Amount  Lactose  Gluten  Vegetarian  Iron  Omega 3  \\\n",
       "Ingredient                                                                \n",
       "salt                 292619        1       1           1     0        0   \n",
       "butter               192640        0       0           1     0        0   \n",
       "sugar                173642        1       1           1     0        0   \n",
       "olive oil            131961        1       1           1     0        0   \n",
       "eggs                 122748        1       1           1     0        0   \n",
       "water                117601        1       1           1     1        1   \n",
       "garlic cloves        102192        1       1           1     0        0   \n",
       "milk                  85206        0       1           1     0        0   \n",
       "flour                 84711        1       0           1     0        0   \n",
       "all - purpose flour   80786        1       0           1     0        0   \n",
       "\n",
       "                     Strange  \n",
       "Ingredient                    \n",
       "salt                       0  \n",
       "butter                     0  \n",
       "sugar                      0  \n",
       "olive oil                  0  \n",
       "eggs                       0  \n",
       "water                      0  \n",
       "garlic cloves              0  \n",
       "milk                       0  \n",
       "flour                      1  \n",
       "all - purpose flour        1  "
      ]
     },
     "execution_count": 48,
     "metadata": {},
     "output_type": "execute_result"
    }
   ],
   "source": [
    "# Importing the data\n",
    "initial_time = time.time()\n",
    "df_300_ingredients = pd.read_excel('data/ingredients.xlsx', index_col=0)\n",
    "print(\"(Time:\", round(time.time() - initial_time, 2), \"seconds)\")\n",
    "printMain(\"DataFrame of top 300 ingredients: \")\n",
    "df_300_ingredients.head(10)"
   ]
  },
  {
   "cell_type": "markdown",
   "metadata": {},
   "source": [
    "This new dataframe contains 6 new columns for each one of the 300 ingredients:\n",
    "\n",
    "- Lactose: Whether or not a lactose intolerance person can eat this ingredient (1: Yes, 0: No)\n",
    "- Gluten: Whether or not a gluten intolerance person can eat this ingredient (1: Yes, 0: No)\n",
    "- Vegetarian: Whether or not a vegetarian person can eat this ingredients (1: Yes, 0: No)\n",
    "- Iron: Weather or not this ingrededient is recomended for countering a lack of iron (1: Yes, 0: No)\n",
    "- Omega 3: Weather or not this ingrededient is recomended for countering a lack of omega 3 (1: Yes, 0: No)\n",
    "- Strange: If this ingredient has something strange to be analysed is marked with a 1 (see next cells)\n",
    "\n",
    "**TODO: Analysis of stranges**\n",
    "\n",
    "**TODO: Explain the selection of ingredients for Omega 3 and Iron**"
   ]
  },
  {
   "cell_type": "markdown",
   "metadata": {},
   "source": [
    "----"
   ]
  },
  {
   "cell_type": "markdown",
   "metadata": {},
   "source": [
    "## 2) General analysis of the data\n",
    "\n",
    "In this part of the report we analyse the characteristics of the recepies in terms of the ingredient in a more general way. We try to ansewer this questions:\n",
    "\n",
    "**Todo: Make list of questions**\n",
    "\n",
    "If any new thing that needs to be cleaned or filtered appears in the data, it is also done in this part."
   ]
  },
  {
   "cell_type": "markdown",
   "metadata": {},
   "source": [
    "### Distribution of ingredients"
   ]
  },
  {
   "cell_type": "code",
   "execution_count": 49,
   "metadata": {},
   "outputs": [
    {
     "name": "stdout",
     "output_type": "stream",
     "text": [
      "\u001b[92mNumber of total ingredients: 5808 \u001b[0m\n"
     ]
    },
    {
     "data": {
      "image/png": "[encoded data removed]",
      "text/plain": [
       "<Figure size 720x504 with 1 Axes>"
      ]
     },
     "metadata": {
      "needs_background": "light"
     },
     "output_type": "display_data"
    }
   ],
   "source": [
    "initial_time = time.time()\n",
    "repetitionArray = []\n",
    "for i in sorted_ingredients:\n",
    "    repetitionArray.append(i[1])\n",
    "    \n",
    "print(color.GREEN + \"Number of total ingredients:\", len(repetitionArray), color.END)\n",
    "fig, ax = plt.subplots(figsize=(10, 7))\n",
    "fig.suptitle('Ingredients repetition', fontsize=20)\n",
    "plt.xlabel('Number of recepies', fontsize=16)\n",
    "plt.ylabel('Number of ingredients', fontsize=16)\n",
    "ax.hist(repetitionArray,bins=30, alpha=0.7)\n",
    "plt.show(fig)"
   ]
  },
  {
   "cell_type": "markdown",
   "metadata": {},
   "source": [
    "In the above plot we can not really see how the distribution of ingredients appearances is, but we can know that the big mayority of ingredients (> 160000, nearly 100%) appear in a low ammount of recepies. \n",
    "\n",
    "Let's do the same analysis but with ingredients in more than 1500 appearances."
   ]
  },
  {
   "cell_type": "code",
   "execution_count": 50,
   "metadata": {},
   "outputs": [
    {
     "name": "stdout",
     "output_type": "stream",
     "text": [
      "\u001b[92mNumber of total ingredients: 654 \u001b[0m\n"
     ]
    },
    {
     "data": {
      "image/png": "[encoded data removed]",
      "text/plain": [
       "<Figure size 720x504 with 1 Axes>"
      ]
     },
     "metadata": {
      "needs_background": "light"
     },
     "output_type": "display_data"
    }
   ],
   "source": [
    "initial_time = time.time()\n",
    "repetitionArray2 = []\n",
    "for i in sorted_ingredients:\n",
    "    if i[1] > 1500:\n",
    "        repetitionArray2.append(i[1])\n",
    "    \n",
    "print(color.GREEN + \"Number of total ingredients:\", len(repetitionArray2), color.END)\n",
    "fig, ax = plt.subplots(figsize=(10, 7))\n",
    "fig.suptitle('Ingredients repetition', fontsize=20)\n",
    "plt.xlabel('Number of recepies', fontsize=16)\n",
    "plt.ylabel('Number of ingredients', fontsize=16)\n",
    "ax.hist(repetitionArray2, bins=30, alpha=0.7)\n",
    "plt.show(fig)"
   ]
  },
  {
   "cell_type": "markdown",
   "metadata": {},
   "source": [
    "Eventhough we have zoomed to avoid the ingredients repeated a few number of times, we still see that there are much more ingredients in the lower repetition part of the histogram. This shows us that we base our diety in a small ammount of ingredients, depending a lot on it. Let's see for example for the top 10 ingredients, the percentage of recepies they appear on:"
   ]
  },
  {
   "cell_type": "code",
   "execution_count": 51,
   "metadata": {},
   "outputs": [
    {
     "data": {
      "image/png": "[encoded data removed]",
      "text/plain": [
       "<Figure size 720x504 with 1 Axes>"
      ]
     },
     "metadata": {
      "needs_background": "light"
     },
     "output_type": "display_data"
    }
   ],
   "source": [
    "top10_ingredients = ingredients[:10]\n",
    "top10_percentages = []\n",
    "\n",
    "for i in repetitionArray2[:10]:\n",
    "    top10_percentages.append(100*(i/len(df_ingredients)))\n",
    "\n",
    "fig, ax = plt.subplots(figsize=(10, 7))\n",
    "plt.bar(np.arange(len(top10_percentages)), top10_percentages,\n",
    "       align='center',\n",
    "       alpha=0.7,\n",
    "       ecolor='black',\n",
    "       capsize=10, \n",
    "       tick_label=top10_ingredients) \n",
    "fig.suptitle('Top 10 ingredients percentage of appareances', fontsize=20)\n",
    "plt.ylabel('Percentage of appareances', fontsize=16)\n",
    "plt.xlabel('Ingredient', fontsize=16)\n",
    "plt.xticks(fontsize=11)\n",
    "plt.yticks(fontsize=13)\n",
    "plt.show()"
   ]
  },
  {
   "cell_type": "markdown",
   "metadata": {},
   "source": [
    "We can see that there are some ingredients really dominant like for example `salt` which appears in nearly 50% of the recepies. This will probably be bad for the main analysis as this ingredients will be present in many recpies no matter the ingredient we choose. It is also interesting to see how the three main ingredients (`salt`, `butter` and `sugar`) are ingredients heavely related to diseases (**todo: reference**). Also interesting to see how 2 out of the 10 top ingredients are not eatable by vegan people, and that the 9th ingredient is not eatable by gluten intolerance people. "
   ]
  },
  {
   "cell_type": "markdown",
   "metadata": {},
   "source": [
    "### Number of ingredients per recepie analysis"
   ]
  },
  {
   "cell_type": "code",
   "execution_count": 52,
   "metadata": {},
   "outputs": [
    {
     "name": "stdout",
     "output_type": "stream",
     "text": [
      "(Time: 0.36 seconds)\n",
      "\u001b[94m\u001b[1mDataFrame with new column: \u001b[0m\n"
     ]
    },
    {
     "data": {
      "text/html": [
       "<div>\n",
       "<style scoped>\n",
       "    .dataframe tbody tr th:only-of-type {\n",
       "        vertical-align: middle;\n",
       "    }\n",
       "\n",
       "    .dataframe tbody tr th {\n",
       "        vertical-align: top;\n",
       "    }\n",
       "\n",
       "    .dataframe thead th {\n",
       "        text-align: right;\n",
       "    }\n",
       "</style>\n",
       "<table border=\"1\" class=\"dataframe\">\n",
       "  <thead>\n",
       "    <tr style=\"text-align: right;\">\n",
       "      <th></th>\n",
       "      <th>id</th>\n",
       "      <th>ingredients</th>\n",
       "      <th>length</th>\n",
       "    </tr>\n",
       "  </thead>\n",
       "  <tbody>\n",
       "    <tr>\n",
       "      <td>1</td>\n",
       "      <td>000033e39b</td>\n",
       "      <td>[elbow macaroni, American cheese, celery, gree...</td>\n",
       "      <td>9</td>\n",
       "    </tr>\n",
       "    <tr>\n",
       "      <td>2</td>\n",
       "      <td>000035f7ed</td>\n",
       "      <td>[tomatoes, kosher salt, red onion, green bell ...</td>\n",
       "      <td>9</td>\n",
       "    </tr>\n",
       "    <tr>\n",
       "      <td>3</td>\n",
       "      <td>00003a70b1</td>\n",
       "      <td>[milk, water, butter, mashed potatoes, whole k...</td>\n",
       "      <td>7</td>\n",
       "    </tr>\n",
       "    <tr>\n",
       "      <td>5</td>\n",
       "      <td>0000631d90</td>\n",
       "      <td>[shredded coconut, lean ground beef, fresh gar...</td>\n",
       "      <td>10</td>\n",
       "    </tr>\n",
       "    <tr>\n",
       "      <td>6</td>\n",
       "      <td>000075604a</td>\n",
       "      <td>[chicken thighs, tea, white pepper]</td>\n",
       "      <td>3</td>\n",
       "    </tr>\n",
       "  </tbody>\n",
       "</table>\n",
       "</div>"
      ],
      "text/plain": [
       "           id                                        ingredients  length\n",
       "1  000033e39b  [elbow macaroni, American cheese, celery, gree...       9\n",
       "2  000035f7ed  [tomatoes, kosher salt, red onion, green bell ...       9\n",
       "3  00003a70b1  [milk, water, butter, mashed potatoes, whole k...       7\n",
       "5  0000631d90  [shredded coconut, lean ground beef, fresh gar...      10\n",
       "6  000075604a                [chicken thighs, tea, white pepper]       3"
      ]
     },
     "execution_count": 52,
     "metadata": {},
     "output_type": "execute_result"
    }
   ],
   "source": [
    "initial_time = time.time()\n",
    "df_ingredients['length'] = df_ingredients['ingredients'].apply(lambda x: len(x))\n",
    "print(\"(Time:\", round(time.time() - initial_time, 2), \"seconds)\")\n",
    "printMain(\"DataFrame with new column: \")\n",
    "df_ingredients.head()"
   ]
  },
  {
   "cell_type": "code",
   "execution_count": 25,
   "metadata": {
    "scrolled": false
   },
   "outputs": [
    {
     "name": "stdout",
     "output_type": "stream",
     "text": [
      "(Time: 0.08 seconds)\n"
     ]
    },
    {
     "data": {
      "image/png": "[encoded data removed]",
      "text/plain": [
       "<Figure size 720x504 with 1 Axes>"
      ]
     },
     "metadata": {
      "needs_background": "light"
     },
     "output_type": "display_data"
    }
   ],
   "source": [
    "initial_time = time.time()\n",
    "fig, ax = plt.subplots(figsize=(10, 7))\n",
    "_data = df_ingredients[\"length\"]\n",
    "fig.suptitle('Distribution of the length of the ingredients of recepies', fontsize=20)\n",
    "plt.xlabel('Number of ingredients', fontsize=16)\n",
    "plt.ylabel('Number of recepies', fontsize=16)\n",
    "plt.hist(_data, density=True, bins=100, alpha=0.8)\n",
    "print(\"(Time:\", round(time.time() - initial_time, 2), \"seconds)\")\n",
    "plt.show(fig)"
   ]
  },
  {
   "cell_type": "markdown",
   "metadata": {},
   "source": [
    "It can not be seen clearly in the avobe plot, but there are some outliers with a huge ammount of ingredients. Let's print it in a logarithmic scale to see this clearly:"
   ]
  },
  {
   "cell_type": "code",
   "execution_count": 24,
   "metadata": {},
   "outputs": [
    {
     "name": "stdout",
     "output_type": "stream",
     "text": [
      "(Time: 0.12 seconds)\n"
     ]
    },
    {
     "data": {
      "image/png": "[encoded data removed]",
      "text/plain": [
       "<Figure size 720x504 with 1 Axes>"
      ]
     },
     "metadata": {
      "needs_background": "light"
     },
     "output_type": "display_data"
    }
   ],
   "source": [
    "initial_time = time.time()\n",
    "fig, ax = plt.subplots(figsize=(10, 7))\n",
    "_data = df_ingredients[\"length\"]\n",
    "fig.suptitle('Distribution of the length of the ingredients of recepies', fontsize=20)\n",
    "plt.xlabel('Number of ingredients', fontsize=16)\n",
    "plt.ylabel('Number of recepies', fontsize=16)\n",
    "plt.hist(_data, density=True, bins=100, alpha=0.8)\n",
    "ax.set_yscale('log')\n",
    "print(\"(Time:\", round(time.time() - initial_time, 2), \"seconds)\")\n",
    "plt.show(fig)"
   ]
  },
  {
   "cell_type": "markdown",
   "metadata": {},
   "source": [
    "Let's print the length of this recepies outliers. "
   ]
  },
  {
   "cell_type": "code",
   "execution_count": 29,
   "metadata": {},
   "outputs": [
    {
     "data": {
      "text/plain": [
       "612655    99\n",
       "398078    93\n",
       "9603      87\n",
       "478122    64\n",
       "903696    59\n",
       "620626    54\n",
       "898117    51\n",
       "721657    49\n",
       "393772    49\n",
       "741643    48\n",
       "165453    48\n",
       "618521    48\n",
       "484260    48\n",
       "9841      47\n",
       "839083    47\n",
       "955365    46\n",
       "727309    45\n",
       "983455    45\n",
       "264070    45\n",
       "708789    45\n",
       "498674    45\n",
       "511049    44\n",
       "779379    44\n",
       "460208    44\n",
       "87472     44\n",
       "252135    44\n",
       "662437    44\n",
       "902905    43\n",
       "62107     43\n",
       "460878    43\n",
       "Name: length, dtype: int64"
      ]
     },
     "execution_count": 29,
     "metadata": {},
     "output_type": "execute_result"
    }
   ],
   "source": [
    "s_lengths = df_ingredients[\"length\"]\n",
    "s_lengths = s_lengths.sort_values(ascending=False)\n",
    "s_lengths.head(30)"
   ]
  },
  {
   "cell_type": "markdown",
   "metadata": {},
   "source": [
    "## 4) Relationship between ingredients"
   ]
  },
  {
   "cell_type": "markdown",
   "metadata": {},
   "source": [
    "## 5) Analysis of diets"
   ]
  },
  {
   "cell_type": "code",
   "execution_count": null,
   "metadata": {},
   "outputs": [],
   "source": []
  }
 ],
 "metadata": {
  "kernelspec": {
   "display_name": "Python 3",
   "language": "python",
   "name": "python3"
  },
  "language_info": {
   "codemirror_mode": {
    "name": "ipython",
    "version": 3
   },
   "file_extension": ".py",
   "mimetype": "text/x-python",
   "name": "python",
   "nbconvert_exporter": "python",
   "pygments_lexer": "ipython3",
   "version": "3.7.3"
  }
 },
 "nbformat": 4,
 "nbformat_minor": 2
}
