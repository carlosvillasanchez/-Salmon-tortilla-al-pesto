{
 "cells": [
  {
   "cell_type": "markdown",
   "metadata": {},
   "source": [
    "# Finding hidden data\n",
    "\n",
    "**Milestone 2 of final project (Applied Data Analysis)**\n",
    "\n",
    "**Team: Salmon Tortilla al Pesto**\n",
    "\n",
    "**TODO: EXPLAIN NEW THINGS THAT WE WILL DO IN THIS PART, AND ALSO QUESTIONS ANSWERED IN THE NOTEBOOK, ADD NEW QUESTIONS IN GENERAL**\n",
    "\n",
    "This jupyter notebook correspond to one part (out of two) of the total report for this milestone. In this notebook we work on the [recpies dataset](http://pic2recipe.csail.mit.edu). Here we will import the dataset, analyize it, search for missing data, clean it, filter it, and start the analysis to ensure that everything is ok for the final milestone. Before starting with all the mentioned tasks, we will present the idea and objectives of this part of the project.\n",
    "\n",
    "Nowadays, huge advances in medicine and nutrition have led us to understand that the way we eat plays the most important role in our health. Following a diet rich in omega 6, for example, will lead us into different diseases, like cancer. Avoiding bad diets is “easily” achieved by eating a great variety of different food, at the same time as minimizing the amount of unhealthy meals. However, things can get harder when we have certain restrictions or obligations in our diet, for instance, we have to counter a lack of iron or if we are vegan.\n",
    "\n",
    "In this part of the project, we will use the `Recipe1M+` dataset to find the correlation between ingredients and see which ingredients are more likely to appear together in a recipe. This way, we will investigate how some restriction or obligations in our diets can affect undesired raises in specific aliments. \n",
    "\n",
    "This are some of the questions we want to answer in this project:\n",
    "\n",
    "- What is the presence correlation between ingredients in recipes?\n",
    "- Are there increases/decreases in the consumption of some ingredients when fighting against a specific disease via nutrition?\n",
    "- Are there increases/decreases in the consumption of some ingredients when having restrictions in our diet?\n",
    "- Which recipes are recommended to fight against a specific disease while not resulting in an undesirable increase of some other ingredients?\n",
    "- Is it easier or harder for people con restriction in their diets to eat \"healthy\"?\n",
    "- Which type of meals (e.g. spicy) are more correlated with unhealthy food?\n",
    "- More...\n",
    "\n",
    "In this first approach, we will base our project in 5 specific nutrition situations, expanding it for the third milestone:\n",
    "\n",
    "- Lactose intolerance\n",
    "- Gluten intolerance\n",
    "- Vegetarian diet\n",
    "- Countering lack of iron\n",
    "- Countering lack of omega 3\n",
    "\n",
    "\n",
    "## Table of contents\n",
    "\n",
    "**1. Analysis and cleaning of the datasets:** In this part we import the data, look for missing or/and NaN values, clean the data, format it if needed and filter it.\n",
    "\n",
    "**2. General analysis of the data:** Before going into the analysis we intent to do, we first do a more general analysis of the ingredients in recepies to obtain important information we will need for extracting the proper conclusions. In addition, in this part we will solve unexpected errors encountered.\n",
    "\n",
    "**3. Starting the core analysis:** In this part we will really start with the core project in order to see that everything is ok for the final report.\n",
    "\n",
    "**4. Conclusions:** Important conclusions of the work done in this milestone."
   ]
  },
  {
   "cell_type": "code",
   "execution_count": 1,
   "metadata": {},
   "outputs": [],
   "source": [
    "# Importing libraries\n",
    "%matplotlib inline\n",
    "import pandas as pd\n",
    "import numpy as np\n",
    "import re\n",
    "from matplotlib.ticker import MaxNLocator\n",
    "import matplotlib.pyplot as plt\n",
    "from requests import get\n",
    "from bs4 import BeautifulSoup\n",
    "import time\n",
    "import operator"
   ]
  },
  {
   "cell_type": "code",
   "execution_count": 2,
   "metadata": {},
   "outputs": [],
   "source": [
    "# For beauty printing\n",
    "class color:\n",
    "    PURPLE = '\\033[95m'\n",
    "    CYAN = '\\033[96m'\n",
    "    DARKCYAN = '\\033[36m'\n",
    "    BLUE = '\\033[94m'\n",
    "    GREEN = '\\033[92m'\n",
    "    YELLOW = '\\033[93m'\n",
    "    RED = '\\033[91m'\n",
    "    BOLD = '\\033[1m'\n",
    "    UNDERLINE = '\\033[4m'\n",
    "    END = '\\033[0m'"
   ]
  },
  {
   "cell_type": "code",
   "execution_count": 3,
   "metadata": {},
   "outputs": [],
   "source": [
    "# Main printing function\n",
    "def printMain(to_print):\n",
    "    print(color.BLUE + color.BOLD + to_print + color.END)"
   ]
  },
  {
   "cell_type": "markdown",
   "metadata": {},
   "source": [
    "## 1) Analysis and cleaning of the datasets\n",
    "\n",
    "In this first section we get the datasets into pandas and analyise the structure and the content of them. The we find and handle NaN and missing values, clean and format the data, and filter it to remove unnecesary features or items. Finally we adapt the data for the following analysis.\n",
    "\n",
    "We have two datasets: `layer1.json` that has information about list of recepies, and `det_ingrs.json` with the ingredients of the recepies from the previous dataset in a cleaner way.\n",
    "\n",
    "### Importing the data\n",
    "First of all, lets import both datasets and analyse them."
   ]
  },
  {
   "cell_type": "code",
   "execution_count": 4,
   "metadata": {},
   "outputs": [
    {
     "name": "stdout",
     "output_type": "stream",
     "text": [
      "(Time: 39.36 seconds)\n",
      "\u001b[94m\u001b[1mlayer1.json dataset:\u001b[0m\n"
     ]
    },
    {
     "data": {
      "text/html": [
       "<div>\n",
       "<style scoped>\n",
       "    .dataframe tbody tr th:only-of-type {\n",
       "        vertical-align: middle;\n",
       "    }\n",
       "\n",
       "    .dataframe tbody tr th {\n",
       "        vertical-align: top;\n",
       "    }\n",
       "\n",
       "    .dataframe thead th {\n",
       "        text-align: right;\n",
       "    }\n",
       "</style>\n",
       "<table border=\"1\" class=\"dataframe\">\n",
       "  <thead>\n",
       "    <tr style=\"text-align: right;\">\n",
       "      <th></th>\n",
       "      <th>ingredients</th>\n",
       "      <th>url</th>\n",
       "      <th>partition</th>\n",
       "      <th>title</th>\n",
       "      <th>id</th>\n",
       "      <th>instructions</th>\n",
       "    </tr>\n",
       "  </thead>\n",
       "  <tbody>\n",
       "    <tr>\n",
       "      <td>0</td>\n",
       "      <td>[{'text': '6 ounces penne'}, {'text': '2 cups ...</td>\n",
       "      <td>http://www.epicurious.com/recipes/food/views/-...</td>\n",
       "      <td>train</td>\n",
       "      <td>Worlds Best Mac and Cheese</td>\n",
       "      <td>000018c8a5</td>\n",
       "      <td>[{'text': 'Preheat the oven to 350 F. Butter o...</td>\n",
       "    </tr>\n",
       "    <tr>\n",
       "      <td>1</td>\n",
       "      <td>[{'text': '1 c. elbow macaroni'}, {'text': '1 ...</td>\n",
       "      <td>http://cookeatshare.com/recipes/dilly-macaroni...</td>\n",
       "      <td>train</td>\n",
       "      <td>Dilly Macaroni Salad Recipe</td>\n",
       "      <td>000033e39b</td>\n",
       "      <td>[{'text': 'Cook macaroni according to package ...</td>\n",
       "    </tr>\n",
       "    <tr>\n",
       "      <td>2</td>\n",
       "      <td>[{'text': '8 tomatoes, quartered'}, {'text': '...</td>\n",
       "      <td>http://www.foodnetwork.com/recipes/gazpacho1.html</td>\n",
       "      <td>train</td>\n",
       "      <td>Gazpacho</td>\n",
       "      <td>000035f7ed</td>\n",
       "      <td>[{'text': 'Add the tomatoes to a food processo...</td>\n",
       "    </tr>\n",
       "    <tr>\n",
       "      <td>3</td>\n",
       "      <td>[{'text': '2 12 cups milk'}, {'text': '1 12 cu...</td>\n",
       "      <td>http://www.food.com/recipe/crunchy-onion-potat...</td>\n",
       "      <td>test</td>\n",
       "      <td>Crunchy Onion Potato Bake</td>\n",
       "      <td>00003a70b1</td>\n",
       "      <td>[{'text': 'Preheat oven to 350 degrees Fahrenh...</td>\n",
       "    </tr>\n",
       "    <tr>\n",
       "      <td>4</td>\n",
       "      <td>[{'text': '1 (3 ounce) package watermelon gela...</td>\n",
       "      <td>http://www.food.com/recipe/cool-n-easy-creamy-...</td>\n",
       "      <td>train</td>\n",
       "      <td>Cool 'n Easy Creamy Watermelon Pie</td>\n",
       "      <td>00004320bb</td>\n",
       "      <td>[{'text': 'Dissolve Jello in boiling water.'},...</td>\n",
       "    </tr>\n",
       "  </tbody>\n",
       "</table>\n",
       "</div>"
      ],
      "text/plain": [
       "                                         ingredients  \\\n",
       "0  [{'text': '6 ounces penne'}, {'text': '2 cups ...   \n",
       "1  [{'text': '1 c. elbow macaroni'}, {'text': '1 ...   \n",
       "2  [{'text': '8 tomatoes, quartered'}, {'text': '...   \n",
       "3  [{'text': '2 12 cups milk'}, {'text': '1 12 cu...   \n",
       "4  [{'text': '1 (3 ounce) package watermelon gela...   \n",
       "\n",
       "                                                 url partition  \\\n",
       "0  http://www.epicurious.com/recipes/food/views/-...     train   \n",
       "1  http://cookeatshare.com/recipes/dilly-macaroni...     train   \n",
       "2  http://www.foodnetwork.com/recipes/gazpacho1.html     train   \n",
       "3  http://www.food.com/recipe/crunchy-onion-potat...      test   \n",
       "4  http://www.food.com/recipe/cool-n-easy-creamy-...     train   \n",
       "\n",
       "                                title          id  \\\n",
       "0          Worlds Best Mac and Cheese  000018c8a5   \n",
       "1         Dilly Macaroni Salad Recipe  000033e39b   \n",
       "2                            Gazpacho  000035f7ed   \n",
       "3           Crunchy Onion Potato Bake  00003a70b1   \n",
       "4  Cool 'n Easy Creamy Watermelon Pie  00004320bb   \n",
       "\n",
       "                                        instructions  \n",
       "0  [{'text': 'Preheat the oven to 350 F. Butter o...  \n",
       "1  [{'text': 'Cook macaroni according to package ...  \n",
       "2  [{'text': 'Add the tomatoes to a food processo...  \n",
       "3  [{'text': 'Preheat oven to 350 degrees Fahrenh...  \n",
       "4  [{'text': 'Dissolve Jello in boiling water.'},...  "
      ]
     },
     "execution_count": 4,
     "metadata": {},
     "output_type": "execute_result"
    }
   ],
   "source": [
    "# Importing layer1.json\n",
    "initial_time = time.time()\n",
    "df_recepies = pd.read_json('data/layer1.json')\n",
    "print(\"(Time:\", round(time.time() - initial_time, 2), \"seconds)\")\n",
    "printMain(\"layer1.json dataset:\")\n",
    "df_recepies.head()"
   ]
  },
  {
   "cell_type": "code",
   "execution_count": 5,
   "metadata": {},
   "outputs": [
    {
     "name": "stdout",
     "output_type": "stream",
     "text": [
      "(Time: 19.01 seconds)\n",
      "\u001b[94m\u001b[1mdet_ingrs.json dataset:\u001b[0m\n"
     ]
    },
    {
     "data": {
      "text/html": [
       "<div>\n",
       "<style scoped>\n",
       "    .dataframe tbody tr th:only-of-type {\n",
       "        vertical-align: middle;\n",
       "    }\n",
       "\n",
       "    .dataframe tbody tr th {\n",
       "        vertical-align: top;\n",
       "    }\n",
       "\n",
       "    .dataframe thead th {\n",
       "        text-align: right;\n",
       "    }\n",
       "</style>\n",
       "<table border=\"1\" class=\"dataframe\">\n",
       "  <thead>\n",
       "    <tr style=\"text-align: right;\">\n",
       "      <th></th>\n",
       "      <th>valid</th>\n",
       "      <th>id</th>\n",
       "      <th>ingredients</th>\n",
       "    </tr>\n",
       "  </thead>\n",
       "  <tbody>\n",
       "    <tr>\n",
       "      <td>0</td>\n",
       "      <td>[True, True, True, True, True, True, True, Tru...</td>\n",
       "      <td>000018c8a5</td>\n",
       "      <td>[{'text': 'penne'}, {'text': 'cheese sauce'}, ...</td>\n",
       "    </tr>\n",
       "    <tr>\n",
       "      <td>1</td>\n",
       "      <td>[True, True, True, True, True, True, True, Tru...</td>\n",
       "      <td>000033e39b</td>\n",
       "      <td>[{'text': 'elbow macaroni'}, {'text': 'America...</td>\n",
       "    </tr>\n",
       "    <tr>\n",
       "      <td>2</td>\n",
       "      <td>[True, True, True, True, True, True, True, Tru...</td>\n",
       "      <td>000035f7ed</td>\n",
       "      <td>[{'text': 'tomatoes'}, {'text': 'kosher salt'}...</td>\n",
       "    </tr>\n",
       "    <tr>\n",
       "      <td>3</td>\n",
       "      <td>[True, True, True, True, True, True, True]</td>\n",
       "      <td>00003a70b1</td>\n",
       "      <td>[{'text': 'milk'}, {'text': 'water'}, {'text':...</td>\n",
       "    </tr>\n",
       "    <tr>\n",
       "      <td>4</td>\n",
       "      <td>[True, True, True, True, True]</td>\n",
       "      <td>00004320bb</td>\n",
       "      <td>[{'text': 'watermelon gelatin'}, {'text': 'boi...</td>\n",
       "    </tr>\n",
       "  </tbody>\n",
       "</table>\n",
       "</div>"
      ],
      "text/plain": [
       "                                               valid          id  \\\n",
       "0  [True, True, True, True, True, True, True, Tru...  000018c8a5   \n",
       "1  [True, True, True, True, True, True, True, Tru...  000033e39b   \n",
       "2  [True, True, True, True, True, True, True, Tru...  000035f7ed   \n",
       "3         [True, True, True, True, True, True, True]  00003a70b1   \n",
       "4                     [True, True, True, True, True]  00004320bb   \n",
       "\n",
       "                                         ingredients  \n",
       "0  [{'text': 'penne'}, {'text': 'cheese sauce'}, ...  \n",
       "1  [{'text': 'elbow macaroni'}, {'text': 'America...  \n",
       "2  [{'text': 'tomatoes'}, {'text': 'kosher salt'}...  \n",
       "3  [{'text': 'milk'}, {'text': 'water'}, {'text':...  \n",
       "4  [{'text': 'watermelon gelatin'}, {'text': 'boi...  "
      ]
     },
     "execution_count": 5,
     "metadata": {},
     "output_type": "execute_result"
    }
   ],
   "source": [
    "# Importing det_ingrs.json\n",
    "initial_time = time.time()\n",
    "df_ingredients = pd.read_json('data/det_ingrs.json')\n",
    "print(\"(Time:\", round(time.time() - initial_time, 2), \"seconds)\")\n",
    "printMain(\"det_ingrs.json dataset:\")\n",
    "df_ingredients.head()"
   ]
  },
  {
   "cell_type": "markdown",
   "metadata": {},
   "source": [
    "We can see that the first dataset has no information interesting for our analysis so far. The title, url and insturctions are not useful for us, and the ingridients will be taken from the `df_ingredients` as they are more clean, and so, easier to use. We delete the first dataFrame."
   ]
  },
  {
   "cell_type": "code",
   "execution_count": 6,
   "metadata": {},
   "outputs": [],
   "source": [
    "# Deleting the first dataset\n",
    "del df_recepies "
   ]
  },
  {
   "cell_type": "markdown",
   "metadata": {},
   "source": [
    "### Removing unnecessary data\n",
    "\n",
    "In the `df_ingredients` we have 3 columns. The `ingredients` column is the most important one. `id` columns will be kept in the dataset, just in case we need to relate the two datasets in the future. The `valid` column will be deleted as it is not needed. Let's delete that feature."
   ]
  },
  {
   "cell_type": "code",
   "execution_count": 7,
   "metadata": {},
   "outputs": [
    {
     "data": {
      "text/html": [
       "<div>\n",
       "<style scoped>\n",
       "    .dataframe tbody tr th:only-of-type {\n",
       "        vertical-align: middle;\n",
       "    }\n",
       "\n",
       "    .dataframe tbody tr th {\n",
       "        vertical-align: top;\n",
       "    }\n",
       "\n",
       "    .dataframe thead th {\n",
       "        text-align: right;\n",
       "    }\n",
       "</style>\n",
       "<table border=\"1\" class=\"dataframe\">\n",
       "  <thead>\n",
       "    <tr style=\"text-align: right;\">\n",
       "      <th></th>\n",
       "      <th>id</th>\n",
       "      <th>ingredients</th>\n",
       "    </tr>\n",
       "  </thead>\n",
       "  <tbody>\n",
       "    <tr>\n",
       "      <td>0</td>\n",
       "      <td>000018c8a5</td>\n",
       "      <td>[{'text': 'penne'}, {'text': 'cheese sauce'}, ...</td>\n",
       "    </tr>\n",
       "    <tr>\n",
       "      <td>1</td>\n",
       "      <td>000033e39b</td>\n",
       "      <td>[{'text': 'elbow macaroni'}, {'text': 'America...</td>\n",
       "    </tr>\n",
       "    <tr>\n",
       "      <td>2</td>\n",
       "      <td>000035f7ed</td>\n",
       "      <td>[{'text': 'tomatoes'}, {'text': 'kosher salt'}...</td>\n",
       "    </tr>\n",
       "    <tr>\n",
       "      <td>3</td>\n",
       "      <td>00003a70b1</td>\n",
       "      <td>[{'text': 'milk'}, {'text': 'water'}, {'text':...</td>\n",
       "    </tr>\n",
       "    <tr>\n",
       "      <td>4</td>\n",
       "      <td>00004320bb</td>\n",
       "      <td>[{'text': 'watermelon gelatin'}, {'text': 'boi...</td>\n",
       "    </tr>\n",
       "  </tbody>\n",
       "</table>\n",
       "</div>"
      ],
      "text/plain": [
       "           id                                        ingredients\n",
       "0  000018c8a5  [{'text': 'penne'}, {'text': 'cheese sauce'}, ...\n",
       "1  000033e39b  [{'text': 'elbow macaroni'}, {'text': 'America...\n",
       "2  000035f7ed  [{'text': 'tomatoes'}, {'text': 'kosher salt'}...\n",
       "3  00003a70b1  [{'text': 'milk'}, {'text': 'water'}, {'text':...\n",
       "4  00004320bb  [{'text': 'watermelon gelatin'}, {'text': 'boi..."
      ]
     },
     "execution_count": 7,
     "metadata": {},
     "output_type": "execute_result"
    }
   ],
   "source": [
    "df_ingredients = df_ingredients.drop(columns=['valid'])\n",
    "df_ingredients.head()"
   ]
  },
  {
   "cell_type": "markdown",
   "metadata": {},
   "source": [
    "### Dealing with missing data\n",
    "\n",
    "Before moving on, let's look if the dataframe has NaN data or empty list of ingredients:"
   ]
  },
  {
   "cell_type": "code",
   "execution_count": 8,
   "metadata": {},
   "outputs": [
    {
     "name": "stdout",
     "output_type": "stream",
     "text": [
      "\u001b[94m\u001b[1mAre there any null values?\u001b[0m\n"
     ]
    },
    {
     "data": {
      "text/plain": [
       "False"
      ]
     },
     "execution_count": 8,
     "metadata": {},
     "output_type": "execute_result"
    }
   ],
   "source": [
    "# Looking for NaN values\n",
    "printMain(\"Are there any null values?\")\n",
    "df_ingredients.isnull().values.any()"
   ]
  },
  {
   "cell_type": "code",
   "execution_count": 9,
   "metadata": {
    "scrolled": true
   },
   "outputs": [
    {
     "name": "stdout",
     "output_type": "stream",
     "text": [
      "\u001b[94m\u001b[1mWhat is the number of empty ingredient lists?\u001b[0m\n"
     ]
    },
    {
     "data": {
      "text/plain": [
       "0"
      ]
     },
     "execution_count": 9,
     "metadata": {},
     "output_type": "execute_result"
    }
   ],
   "source": [
    "# Looking for empty lists\n",
    "df_empty_rows = df_ingredients[df_ingredients['ingredients'].map(lambda d: len(d)) == 0]\n",
    "printMain(\"What is the number of empty ingredient lists?\")\n",
    "len(df_empty_rows)"
   ]
  },
  {
   "cell_type": "markdown",
   "metadata": {},
   "source": [
    "We can see that there are no missing or empty values. Nothing to clean or fill.\n",
    "\n",
    "It is true that there can still be missing ingredients, but if this is true, we will find an ingredient named \"\". We now this does not happend, this can be seen ahead in the notebook."
   ]
  },
  {
   "cell_type": "markdown",
   "metadata": {},
   "source": [
    "### Reformating data\n",
    "\n",
    "We can also see that the `ingredients` column is not good formated. It would be more useful to have only a list of the ingredient of each recepie. Also, we ensure that ingredients are lower case, to abvoid having same ingredients in different recepies that are different string. We will also remove repeated ingredients in the list (*This was detected in the second section, but it is done here for cleaness*)\n",
    "\n",
    "In this process of reformating the data, we do another thing. We found out in the general analysis that some ingredients sometimes are written in plural or singular. Also, some ingredients are separated into groups with too much granularity, which is not good for us. For example, 'chicken breasts' or 'chicken' for our analysis is the same, just chicken. In the following cell, we present a dictionary which keys are ingredients that need to be transoformed ('chicken breasts'), and the values are the string into which the ingredients need to be transformed ('chicken').\n",
    "\n",
    "*The generation of the dictionary was purly manual. Geting the most common ingredients (~500) and selecting the changes useful for our purpose.*"
   ]
  },
  {
   "cell_type": "code",
   "execution_count": 10,
   "metadata": {},
   "outputs": [],
   "source": [
    "# Dictionary of format changes\n",
    "dic_ingredients_changes = {\n",
    "    \"all - purpose flour\": \"flour\",\n",
    "    \"whole wheat flour\": \"flour\",\n",
    "    \"bread flour\": \"flour\",\n",
    "    \"plain flour\": \"flour\",\n",
    "    \"cake flour\": \"flour\",\n",
    "    \"brown sugar\": \"sugar\",\n",
    "    \"granulated sugar\": \"sugar\",\n",
    "    \"white sugar\": \"sugar\",\n",
    "    \"powdered sugar\": \"sugar\",\n",
    "    \"confectioners' sugar\": \"sugar\",\n",
    "    \"light brown sugar\": \"sugar\",\n",
    "    \"dark brown sugar\": \"sugar\",\n",
    "    \"caster sugar\": \"sugar\",\n",
    "    \"extra virgin olive oil\": \"olive oil\",\n",
    "    \"canola oil\": \"vegetable oil\",\n",
    "    \"sesame oil\": \"vegetable oil\",\n",
    "    \"peanut oil\": \"vegetable oil\",\n",
    "    \"kosher salt\": \"salt\",\n",
    "    \"sea salt\": \"salt\",\n",
    "    \"seasoning salt\": \"salt\",\n",
    "    \"coarse salt\": \"salt\",\n",
    "    \"fresh parsley\": \"parsley\",\n",
    "    \"flat leaf parsley\": \"parsley\",\n",
    "    \"fresh parsley leaves\": \"parsley\",\n",
    "    \"onions\": \"onion\",\n",
    "    \"red onion\": \"onion\",\n",
    "    \"red onions\": \"onion\",\n",
    "    \"onion powder\": \"onion\",\n",
    "    \"yellow onion\": \"onion\",\n",
    "    \"yellow onions\": \"onion\",\n",
    "    \"black pepper\": \"pepper\",\n",
    "    \"fresh ground black pepper\": \"pepper\",\n",
    "    \"ground black pepper\": \"pepper\",\n",
    "    \"white pepper\": \"pepper\",\n",
    "    \"crushed red pepper flakes\": \"red pepper flakes\",\n",
    "    \"red bell pepper\": \"bell pepper\",\n",
    "    \"red bell peppers\": \"bell pepper\",\n",
    "    \"green peppers\": \"bell pepper\",\n",
    "    \"green bell pepper\": \"bell pepper\",\n",
    "    \"green bell peppers\": \"bell pepper\",\n",
    "    \"green pepper\": \"bell pepper\",\n",
    "    \"red peppers\": \"bell pepper\",\n",
    "    \"bell peppers\": \"bell pepper\",\n",
    "    \"red pepper\": \"bell pepper\",\n",
    "    \"lemon juice\": \"lemon\",\n",
    "    \"fresh lemon juice\": \"lemon\",\n",
    "    \"lemons\": \"lemon\",\n",
    "    \"lemon zest\": \"lemon\",\n",
    "    \"fresh cilantro\": \"cilantro\",\n",
    "    \"fresh ginger\": \"ginger\",\n",
    "    \"ground ginger\": \"ginger\",\n",
    "    \"boneless skinless chicken breasts\": \"chicken\",\n",
    "    \"chicken breasts\": \"chicken\",\n",
    "    \"cooked chicken\": \"chicken\",\n",
    "    \"boneless skinless chicken breast halves\": \"chicken\",\n",
    "    \"chicken stock\": \"chicken broth\",\n",
    "    \"fresh basil\": \"basil\",\n",
    "    \"dried basil\": \"basil\",\n",
    "    \"fresh basil leaves\": \"basil\",\n",
    "    \"basil leaves\": \"basil\",\n",
    "    \"ground cumin\": \"cumin\",\n",
    "    \"cumin seeds\": \"cumin\",\n",
    "    \"bay leaves\": \"bay leaf\",\n",
    "    \"dried thyme\": \"thyme\",\n",
    "    \"fresh thyme\": \"thyme\",\n",
    "    \"diced tomatoes\": \"tomatoes\",\n",
    "    \"cherry tomatoes\": \"tomatoes\",\n",
    "    \"plum tomatoes\": \"tomatoes\",\n",
    "    \"dijon mustard\": \"mustard\",\n",
    "    \"dry mustard\": \"mustard\",\n",
    "    \"boiling water\": \"water\",\n",
    "    \"cold water\": \"water\",\n",
    "    \"warm water\": \"water\",\n",
    "    \"hot water\": \"water\",\n",
    "    \"ice\": \"water\",\n",
    "    \"ice cubes\": \"water\",\n",
    "    \"parmesan cheese\": \"cheese\",\n",
    "    \"cheddar cheese\": \"cheese\",\n",
    "    \"mozzarella cheese\": \"cheese\",\n",
    "    \"shredded cheddar cheese\": \"cheese\",\n",
    "    \"feta cheese\": \"cheese\",\n",
    "    \"sharp cheddar cheese\": \"cheese\",\n",
    "    \"monterey jack cheese\": \"cheese\",\n",
    "    \"swiss cheese\": \"cheese\",\n",
    "    \"ricotta cheese\": \"cheese\",\n",
    "    \"blue cheese\": \"cheese\",\n",
    "    \"parmigiano - reggiano cheese\": \"cheese\",\n",
    "    \"celery ribs\": \"celery\",\n",
    "    \"balsamic vinegar\": \"vinegar\",\n",
    "    \"red wine vinegar\": \"vinegar\",\n",
    "    \"cider vinegar\": \"vinegar\",\n",
    "    \"white vinegar\": \"vinegar\",\n",
    "    \"white wine vinegar\": \"vinegar\",\n",
    "    \"apple cider vinegar\": \"vinegar\",\n",
    "    \"rice vinegar\": \"vinegar\",\n",
    "    \"heavy cream\": \"cream\",\n",
    "    \"whipping cream\": \"cream\",\n",
    "    \"heavy whipping cream\": \"cream\",\n",
    "    \"whipped cream\": \"cream\",\n",
    "    \"vanilla extract\": \"vanilla\",\n",
    "    \"pure vanilla extract\": \"vanilla\",\n",
    "    \"vanilla ice cream\": \"vanilla\",\n",
    "    \"fresh mushrooms\": \"mushrooms\",\n",
    "    \"sliced mushrooms\": \"mushrooms\",\n",
    "    \"cream of mushroom soup\": \"mushrooms\",\n",
    "    \"maple syrup\": \"syrup\",\n",
    "    \"light corn syrup\": \"syrup\",\n",
    "    \"shallots\": \"shallot\",\n",
    "    \"fresh chives\": \"chives\",\n",
    "    \"banana\": \"bananas\",\n",
    "    \"lime juice\": \"lime\",\n",
    "    \"fresh lime juice\": \"lime\",\n",
    "    \"limes\": \"lime\",\n",
    "    \"orange juice\": \"orange\",\n",
    "    \"orange zest\": \"orange\",\n",
    "    \"oranges\": \"orange\",\n",
    "    \"of fresh mint\": \"mint\",\n",
    "    \"semi - sweet chocolate chips\": \"chocolate\",\n",
    "    \"chocolate chips\": \"chocolate\",\n",
    "    \"semisweet chocolate\": \"chocolate\",\n",
    "    \"ground allspice\": \"allspice\",\n",
    "    \"cooked rice\": \"rice\",\n",
    "    \"granny smith apples\": \"apple\",\n",
    "    \"apples\": \"apple\",\n",
    "    \"sliced almonds\": \"almonds\",\n",
    "    \"slivered almonds\": \"almonds\",\n",
    "    \"spaghetti\": \"pasta\",\n",
    "    \"unsalted butter\": \"butter\",\n",
    "    \"garlic cloves\": \"garlic\",\n",
    "    \"garlic clove\": \"garlic\",\n",
    "    \"garlic powder\": \"garlic\",\n",
    "    \"garlic salt\": \"garlic\",\n",
    "    \"panko breadcrumbs\": \"breadcrumbs\",\n",
    "    \"white bread\": \"bread\",\n",
    "    \"french bread\": \"bread\",\n",
    "    \"black olives\": \"olives\",\n",
    "    \"kalamata olives\": \"olives\",\n",
    "    \"active dry yeast\": \"yeast\",\n",
    "    \"fresh spinach\": \"spinach\",\n",
    "    \"cracked black pepper\": \"pepper\",\n",
    "    \"cream of chicken soup\": \"chicken broth\",\n",
    "    \"cooking oil\": \"oil\",\n",
    "    \"dry white wine\": \"white wine\",\n",
    "    \"dry sherry\": \"red wine\",\n",
    "    \"crushed tomatoes\": \"tomatoes\",\n",
    "    \"goat cheese\": \"cheese\",\n",
    "    \"fresh strawberries\": \"strawberries\",\n",
    "    \"broccoli florets\": \"broccoli\",\n",
    "    \"celery seeds\": \"celery\",\n",
    "    \"bittersweet chocolate\": \"chocolate\",\n",
    "    \"icing sugar\": \"sugar\",\n",
    "    \"red potatoes\": \"potatoes\",\n",
    "    \"russet potatoes\": \"potatoes\",\n",
    "    \"salmon fillets\": \"salmon\",\n",
    "    \"hot pepper sauce\": \"hot sauce\",\n",
    "    \"dried parsley\": \"parsley\",\n",
    "    \"pineapple juice\": \"pineapple\",\n",
    "    \"crushed pineapple\": \"pineapple\",\n",
    "    \"jalapeno peppers\": \"jalapeno\",\n",
    "    \"jalapenos\": \"jalapeno\",\n",
    "    \"low sodium chicken broth\": \"chicken\",\n",
    "    \"chili powder\": \"chili\",\n",
    "    \"green chilies\": \"chili\",\n",
    "    \"whole milk\": \"milk\",\n",
    "    \"low - fat milk\": \"milk\",\n",
    "    \"skim milk\": \"milk\",\n",
    "    \"avocados\": \"avocado\",\n",
    "    \"rolled oats\": \"oat\",\n",
    "    \"unsweetened cocoa powder\": \"cocoa\",\n",
    "    \"cayenne pepper\": \"cayenne\",\n",
    "    \"lean ground beef\": \"beef\",\n",
    "    \"cucumbers\": \"cucumber\",\n",
    "    \"rosemary\": \"fresh rosemary\",\n",
    "    \"ground nutmeg\": \"nutmeg\",\n",
    "    \"fresh ground pepper\": \"pepper\",\n",
    "    \"tomato paste\": \"tomatoes\",\n",
    "    \"eggs\": \"egg\",\n",
    "    \"egg yolks\": \"egg yolk\",\n",
    "    \"egg whites\": \"egg white\",\n",
    "    \"dried oregano\": \"oregano\",\n",
    "    \"green onions\": \"scallions\",\n",
    "    \"ground beef\": \"beef\",\n",
    "    \"ground cinnamon\": \"cinnamon\",\n",
    "    \"carrots\": \"carrot\",    \n",
    "    \"white onions\": \"onion\",\n",
    "    \"white onion\": \"onion\",\n",
    "    \"elbow macaroni\": \"pasta\",\n",
    "    \"roasted red peppers\": \"bell pepper\",\n",
    "    \"pumpkin puree\": \"pumpkin\",\n",
    "    \"plain yogurt\": \"yogurt\",\n",
    "    \"black beans\": \"beans\",\n",
    "    \"kidney beans\": \"beans\",\n",
    "    \"velveeta cheese\": \"cheese\",\n",
    "    \"ground coriander\": \"coriander\",\n",
    "    \"fresh thyme leaves\" : \"thyme\",\n",
    "    \"fresh flat - leaf parsley\": \"parsley\",\n",
    "    \"ground pork\": \"pork\",\n",
    "    \"fresh orange juice\": \"orange\",\n",
    "    \"cinnamon sticks\": \"cinnamon\",\n",
    "    \"prepared mustard\": \"mustard\",\n",
    "    \"frozen chopped spinach\": \"spinach\",\n",
    "    \"pork tenderloin\": \"pork\",\n",
    "    \"fresh oregano\": \"oregano\",\n",
    "    \"ground turkey\": \"turkey\",\n",
    "    \"fresh mint leaves\": \"mint\",\n",
    "    \"vegetable stock\": \"vegetable broth\",\n",
    "    \"beef stock\": \"beef broth\",\n",
    "    \"golden raisins\": \"raisins\",\n",
    "    \"hard - boiled eggs\": \"egg\",\n",
    "    \"philadelphia cream cheese\": \"cream cheese\",\n",
    "    \"chopped tomatoes\": \"tomatoes\",\n",
    "    \"lemon peel\": \"lemon\",\n",
    "    \"apple juice\": \"apple\",\n",
    "    \"dried rosemary\": \"rosemary\",\n",
    "    \"jalapeno pepper\": \"jalapeno\",\n",
    "    \"romaine lettuce\": \"lettuce\",\n",
    "    \"baby spinach\": \"spinach\",\n",
    "    \"gingerroot\": \"ginger\",\n",
    "    \"dry red wine\": \"red wine\",\n",
    "    \"vegetable shortening\": \"shortening\",\n",
    "    \"creamy peanut butter\": \"peanut butter\",\n",
    "    \"frozen corn\": \"corn\",\n",
    "    \"cilantro leaves\": \"cilantro\",\n",
    "    \"unbleached all - purpose flour\": \"flour\",\n",
    "    \"mint leaves\": \"mint\",\n",
    "    \"dark rum\": \"rum\",\n",
    "    \"fresh coarse ground black pepper\": \"black pepper\",\n",
    "    \"low sodium soy sauce\": \"soy sauce\",\n",
    "    \"cool whip topping\": \"cool whip\",\n",
    "    \"nonfat milk\": \"milk\",\n",
    "    \"cinnamon stick\": \"cinnamon\",\n",
    "    \"fresh blueberries\": \"blueberries\",\n",
    "    \"ground pepper\": \"pepper\",\n",
    "    \"sherry wine\": \"wine\",\n",
    "    \"chili sauce\": \"chili\",\n",
    "    \"low - fat sour cream\": \"sour cream\",\n",
    "    \"potato\": \"potatoes\",\n",
    "    \"flaked coconut\": \"coconut\",\n",
    "    \"eggplants\": \"eggplant\",\n",
    "    \"dry breadcrumbs\": \"breadcrumbs\",\n",
    "    \"diced onions\": \"onion\",\n",
    "    \"cottage cheese\": \"cheese\",\n",
    "    \"yellow cornmeal\": \"cornmeal\",\n",
    "    \"roma tomatoes\": \"tomatoes\",\n",
    "    \"black peppercorns\": \"pepper\",\n",
    "    \"rice wine vinegar\": \"vinegar\",\n",
    "    \"crabmeat\": \"crab\",\n",
    "    \"miniature marshmallows\": \"marshmallows\",\n",
    "    \"sherry wine vinegar\": \"vinegar\",\n",
    "    \"chicken thighs\": \"chicken\",\n",
    "    \"pork chops\": \"pork\",\n",
    "    \"grape tomatoes\": \"tomatoes\",\n",
    "    \"vanilla bean\": \"vanilla\",\n",
    "    \"ground red pepper\": \"red pepper flakes\",\n",
    "    \"yukon gold potatoes\": \"potatoes\",\n",
    "    \"baking potatoes\": \"potatoes\",\n",
    "    \"tomato juice\": \"tomatoes\",\n",
    "    \"ice water\": \"water\",\n",
    "    \"corn syrup\": \"syrup\",\n",
    "    \"ground cardamom\": \"cardamom\",\n",
    "    \"fresh cilantro leaves\": \"cilantro\",\n",
    "    \"smoked paprika\": \"paprika\",\n",
    "    \"leeks\": \"leek\",\n",
    "    \"celery salt\": \"salt\",\n",
    "    \"large shrimp\": \"shrimp\",\n",
    "    \"oats\": \"oat\",\n",
    "    \"oatmeal\": \"oat\",\n",
    "    \"baby carrots\": \"carrot\",\n",
    "    \"fresh dill\": \"dill\",\n",
    "    \"green onion\": \"scallions\",\n",
    "    \"green olives\": \"olives\",\n",
    "    \"celery rib\": \"celery\",\n",
    "    \"sweet onions\": \"onion\",\n",
    "    \"quick - cooking oats\": \"oat\",\n",
    "    \"coconut oil\": \"vegetable oil\",\n",
    "    \"old fashioned oats\": \"oat\",   \n",
    "}"
   ]
  },
  {
   "cell_type": "markdown",
   "metadata": {},
   "source": [
    "To sum up, in the following cell what we do are this three things:\n",
    "\n",
    "- Convert the ingredients into a list.\n",
    "- Change the ingredients into lower case strings.\n",
    "- Use the dictionary to format the ingredients names appropiatly."
   ]
  },
  {
   "cell_type": "code",
   "execution_count": 11,
   "metadata": {},
   "outputs": [
    {
     "name": "stdout",
     "output_type": "stream",
     "text": [
      "(Time: 7.99 seconds)\n",
      "\u001b[94m\u001b[1mdet_ingrs.json dataset after cleaning:\u001b[0m\n"
     ]
    },
    {
     "data": {
      "text/html": [
       "<div>\n",
       "<style scoped>\n",
       "    .dataframe tbody tr th:only-of-type {\n",
       "        vertical-align: middle;\n",
       "    }\n",
       "\n",
       "    .dataframe tbody tr th {\n",
       "        vertical-align: top;\n",
       "    }\n",
       "\n",
       "    .dataframe thead th {\n",
       "        text-align: right;\n",
       "    }\n",
       "</style>\n",
       "<table border=\"1\" class=\"dataframe\">\n",
       "  <thead>\n",
       "    <tr style=\"text-align: right;\">\n",
       "      <th></th>\n",
       "      <th>id</th>\n",
       "      <th>ingredients</th>\n",
       "    </tr>\n",
       "  </thead>\n",
       "  <tbody>\n",
       "    <tr>\n",
       "      <td>0</td>\n",
       "      <td>000018c8a5</td>\n",
       "      <td>[milk, garlic, 2 ounces semisoft cheese (page ...</td>\n",
       "    </tr>\n",
       "    <tr>\n",
       "      <td>1</td>\n",
       "      <td>000033e39b</td>\n",
       "      <td>[pasta, salt, bell pepper, pimentos, mayonnais...</td>\n",
       "    </tr>\n",
       "    <tr>\n",
       "      <td>2</td>\n",
       "      <td>000035f7ed</td>\n",
       "      <td>[olive oil, cucumber, salt, tomatoes, bell pep...</td>\n",
       "    </tr>\n",
       "    <tr>\n",
       "      <td>3</td>\n",
       "      <td>00003a70b1</td>\n",
       "      <td>[milk, french - fried onions, whole kernel cor...</td>\n",
       "    </tr>\n",
       "    <tr>\n",
       "      <td>4</td>\n",
       "      <td>00004320bb</td>\n",
       "      <td>[watermelon gelatin, seedless watermelon, wate...</td>\n",
       "    </tr>\n",
       "  </tbody>\n",
       "</table>\n",
       "</div>"
      ],
      "text/plain": [
       "           id                                        ingredients\n",
       "0  000018c8a5  [milk, garlic, 2 ounces semisoft cheese (page ...\n",
       "1  000033e39b  [pasta, salt, bell pepper, pimentos, mayonnais...\n",
       "2  000035f7ed  [olive oil, cucumber, salt, tomatoes, bell pep...\n",
       "3  00003a70b1  [milk, french - fried onions, whole kernel cor...\n",
       "4  00004320bb  [watermelon gelatin, seedless watermelon, wate..."
      ]
     },
     "execution_count": 11,
     "metadata": {},
     "output_type": "execute_result"
    }
   ],
   "source": [
    "def convert_to_array(ingredients_json):\n",
    "    to_return = []\n",
    "    for ingredient in ingredients_json:\n",
    "        ing = ingredient['text'].lower()\n",
    "        if ing in dic_ingredients_changes:\n",
    "            to_return.append(dic_ingredients_changes[ing].lower())\n",
    "        else:\n",
    "            to_return.append(ing)\n",
    "    return list(set(to_return))\n",
    "\n",
    "initial_time = time.time()\n",
    "df_ingredients['ingredients'] = df_ingredients['ingredients'].apply(convert_to_array)\n",
    "print(\"(Time:\", round(time.time() - initial_time, 2), \"seconds)\")\n",
    "printMain(\"det_ingrs.json dataset after cleaning:\")\n",
    "df_ingredients.head()"
   ]
  },
  {
   "cell_type": "markdown",
   "metadata": {},
   "source": [
    "### Filtering ingredients\n",
    "\n",
    "Now we have the dataframe with the list of ingredients we wanted. However we realized that some ingredients were not properly cleaned as expected. Let's see what it is exactly the problem.\n",
    "\n",
    "For this, let's make a list of all the ingredients that appear at least once in the dataframe."
   ]
  },
  {
   "cell_type": "code",
   "execution_count": 12,
   "metadata": {},
   "outputs": [
    {
     "name": "stdout",
     "output_type": "stream",
     "text": [
      "(Time: 2.4 seconds)\n",
      "\u001b[94m\u001b[1mAmount of different ingredients: 166278\u001b[0m\n"
     ]
    }
   ],
   "source": [
    "# Ingridients unique \n",
    "initial_time = time.time()\n",
    "list_ingredients = []\n",
    " \n",
    "for row in df_ingredients.itertuples():\n",
    "    list_ingredients.extend(row[2])\n",
    "\n",
    "list_ingredients = list(set(list_ingredients))    \n",
    "print(\"(Time:\", round(time.time() - initial_time, 2), \"seconds)\")\n",
    "printMain(\"Amount of different ingredients: \" + str(len(list_ingredients)))"
   ]
  },
  {
   "cell_type": "code",
   "execution_count": 13,
   "metadata": {
    "scrolled": true
   },
   "outputs": [
    {
     "data": {
      "text/plain": [
       "['12 package pepperoni, chopped (you can use more if you would like)',\n",
       " 'chocolate chip cookies',\n",
       " '20 fresh mini pita halves, toasted if desired',\n",
       " '1 can mild chili with beans (any brand)',\n",
       " '1 whole french style loaf (or other crusty sandwich loaf)',\n",
       " 'pinch ground 5-spice blend',\n",
       " '1 pound sandwich spread (ham or possibly tuna)',\n",
       " '2 bags corn soup powder',\n",
       " '100 gm griesszucker',\n",
       " 'kraft singles cheese slices target 2 for $5.00 thru 02/06']"
      ]
     },
     "execution_count": 13,
     "metadata": {},
     "output_type": "execute_result"
    }
   ],
   "source": [
    "# Let's print a few of the ingredients\n",
    "list_ingredients[-10:]"
   ]
  },
  {
   "cell_type": "markdown",
   "metadata": {},
   "source": [
    "We can see in the above cell that some ingredients are still not properly cleaned. For example, the third ingredient printed `4 skinless, boneless chicken breast halves - cut into 1 inch strips`, should be seen as `chicken` as we do not care about the ammount or the way is cut. We need the same ingredient to be the same string always. This is important for the future analysis. \n",
    "\n",
    "In order to avoid having this ingredients we decided to reduce the number of recepies we have, deleting all the recepies that have this \"not-cleaned\" ingredients. To identify this \"not-cleaned\" ingredients, we suppose that are does that appear in less than 50 recepies (is hard that an ingredient that is not cleaned appears more). \n",
    "\n",
    "Let's first see how many recepies we have in total before doing the cleaning."
   ]
  },
  {
   "cell_type": "code",
   "execution_count": 14,
   "metadata": {},
   "outputs": [
    {
     "name": "stdout",
     "output_type": "stream",
     "text": [
      "\u001b[94m\u001b[1mNumber of recepies: 1029720\u001b[0m\n"
     ]
    }
   ],
   "source": [
    "printMain(\"Number of recepies: \" + str(len(df_ingredients)))"
   ]
  },
  {
   "cell_type": "code",
   "execution_count": 15,
   "metadata": {},
   "outputs": [
    {
     "name": "stdout",
     "output_type": "stream",
     "text": [
      "(Time: 4.48 seconds)\n",
      "\u001b[94m\u001b[1mNumber of different ingredients in total: 166278\u001b[0m\n"
     ]
    }
   ],
   "source": [
    "# First, let's put the ingredients into a dictionary\n",
    "initial_time = time.time()\n",
    "dic_ingredients = {}\n",
    " \n",
    "for row in df_ingredients.itertuples():\n",
    "    for ing in row[2]:\n",
    "        if ing in dic_ingredients:\n",
    "            dic_ingredients[ing] += 1\n",
    "        else:\n",
    "            dic_ingredients[ing] = 1\n",
    "\n",
    "print(\"(Time:\", round(time.time() - initial_time, 2), \"seconds)\")\n",
    "printMain(\"Number of different ingredients in total: \" + str(len(dic_ingredients)))"
   ]
  },
  {
   "cell_type": "code",
   "execution_count": 16,
   "metadata": {},
   "outputs": [
    {
     "name": "stdout",
     "output_type": "stream",
     "text": [
      "(Time: 0.04 seconds)\n",
      "\u001b[94m\u001b[1mNumber of ingredients that appear more than 50 times: 5533\u001b[0m\n"
     ]
    }
   ],
   "source": [
    "# Creating a list of ingredients that appear more than 50 times\n",
    "initial_time = time.time()\n",
    "max_ingredients = []\n",
    "for k, v in dic_ingredients.items():\n",
    "    if v > 50:\n",
    "        max_ingredients.append(k)\n",
    "print(\"(Time:\", round(time.time() - initial_time, 2), \"seconds)\")\n",
    "printMain(\"Number of ingredients that appear more than 50 times: \" + str(len(max_ingredients)))"
   ]
  },
  {
   "cell_type": "code",
   "execution_count": 17,
   "metadata": {
    "scrolled": true
   },
   "outputs": [
    {
     "name": "stdout",
     "output_type": "stream",
     "text": [
      "(Time: 170.37 seconds)\n",
      "\u001b[94m\u001b[1mNumber of recepies: 781644\u001b[0m\n"
     ]
    }
   ],
   "source": [
    "# Deleting the recepies with \"not-cleaned\" ingredients\n",
    "def deleting_rcepies_with_strange_ingredients(x):\n",
    "    for i in x:\n",
    "        if i not in max_ingredients:\n",
    "            return False\n",
    "    return True\n",
    "\n",
    "initial_time = time.time()\n",
    "df_ingredients = df_ingredients[df_ingredients[\"ingredients\"].apply(deleting_rcepies_with_strange_ingredients)]\n",
    "print(\"(Time:\", round(time.time() - initial_time, 2), \"seconds)\")\n",
    "printMain(\"Number of recepies: \" + str(len(df_ingredients)))"
   ]
  },
  {
   "cell_type": "markdown",
   "metadata": {},
   "source": [
    "We can see we go from little more than 1 million of recepies, to nearly 800.000 recepies. So, eventhough we loose more than 200.000 recepies, it is not critical for the purpose of the project. We still have enough data for the analysis we ment to carry on, and we can ensure that unwanted ingredients are removed.\n",
    "\n",
    "### Selecting ingredients for future analysis\n",
    "\n",
    "Before moving on to the next part, we want to mention that we are going to base our analysis in only a small set of the 5562 ingredients, in the 200 most important (more common). Doing the analysis in all of the ingredients would be time consuming and also irrelevant. Focusing in the top 200 (maybe more if it is possible and we have time), allow us to draw interesting conclusions from the data and more important, answer the questions we are asking ourselves."
   ]
  },
  {
   "cell_type": "code",
   "execution_count": 18,
   "metadata": {},
   "outputs": [
    {
     "name": "stdout",
     "output_type": "stream",
     "text": [
      "(Time: 4.56 seconds)\n",
      "\u001b[94m\u001b[1mNumber of different ingredients: 5533\u001b[0m\n"
     ]
    }
   ],
   "source": [
    "# First, we recalculate the dictionary of ingredients\n",
    "initial_time = time.time()\n",
    "dic_ingredients = {}\n",
    " \n",
    "for row in df_ingredients.itertuples():\n",
    "    for ing in row[2]:\n",
    "        if ing in dic_ingredients:\n",
    "            dic_ingredients[ing] += 1\n",
    "        else:\n",
    "            dic_ingredients[ing] = 1\n",
    "\n",
    "print(\"(Time:\", round(time.time() - initial_time, 2), \"seconds)\")\n",
    "printMain(\"Number of different ingredients: \" + str(len(dic_ingredients)))"
   ]
  },
  {
   "cell_type": "code",
   "execution_count": 19,
   "metadata": {},
   "outputs": [
    {
     "name": "stdout",
     "output_type": "stream",
     "text": [
      "(Time: 0.01 seconds)\n",
      "\u001b[94m\u001b[1mTop 10 ingredients: ['salt', 'sugar', 'butter', 'garlic', 'onion', 'egg', 'flour', 'pepper', 'water', 'olive oil']\u001b[0m\n"
     ]
    }
   ],
   "source": [
    "# Selecting the ingredients\n",
    "initial_time = time.time()\n",
    "sorted_ingredients = sorted(dic_ingredients.items(), key=operator.itemgetter(1), reverse=True)\n",
    "sorted_ingredients_200 = sorted_ingredients[:200]\n",
    "ingredients = []\n",
    "for i in sorted_ingredients_200:\n",
    "    ingredients.append(i[0])\n",
    "print(\"(Time:\", round(time.time() - initial_time, 2), \"seconds)\")\n",
    "printMain(\"Top 10 ingredients: \" + str(ingredients[:10]))"
   ]
  },
  {
   "cell_type": "markdown",
   "metadata": {},
   "source": [
    "### Adding new necessary data\n",
    "\n",
    "For the 200 ingredients we base our analysis in, we want to know whether or not they are recommended or avoided by the 5 diets we are studing. We also want to mark them as unhealthy when this is the case. This work cannot be done automatically, therefore, we proceed to export the 200 ingredients to an Excel file, add the necessary information to it, and reimport the data to the notebook as a dataFrame for future analysis."
   ]
  },
  {
   "cell_type": "code",
   "execution_count": 20,
   "metadata": {},
   "outputs": [],
   "source": [
    "# Exporting the data\n",
    "pd.DataFrame(sorted_ingredients_200).to_excel('data/ingredients_without_analysis.xlsx', header=False, index=False)"
   ]
  },
  {
   "cell_type": "code",
   "execution_count": 21,
   "metadata": {},
   "outputs": [
    {
     "name": "stdout",
     "output_type": "stream",
     "text": [
      "(Time: 0.07 seconds)\n",
      "\u001b[94m\u001b[1mNew dataFrame of top 200 ingredients: \u001b[0m\n"
     ]
    },
    {
     "data": {
      "text/html": [
       "<div>\n",
       "<style scoped>\n",
       "    .dataframe tbody tr th:only-of-type {\n",
       "        vertical-align: middle;\n",
       "    }\n",
       "\n",
       "    .dataframe tbody tr th {\n",
       "        vertical-align: top;\n",
       "    }\n",
       "\n",
       "    .dataframe thead th {\n",
       "        text-align: right;\n",
       "    }\n",
       "</style>\n",
       "<table border=\"1\" class=\"dataframe\">\n",
       "  <thead>\n",
       "    <tr style=\"text-align: right;\">\n",
       "      <th></th>\n",
       "      <th>Amount</th>\n",
       "      <th>Lactose</th>\n",
       "      <th>Gluten</th>\n",
       "      <th>Vegan</th>\n",
       "      <th>Iron</th>\n",
       "      <th>Omega 3</th>\n",
       "      <th>Unhealthy</th>\n",
       "    </tr>\n",
       "    <tr>\n",
       "      <th>Ingredient</th>\n",
       "      <th></th>\n",
       "      <th></th>\n",
       "      <th></th>\n",
       "      <th></th>\n",
       "      <th></th>\n",
       "      <th></th>\n",
       "      <th></th>\n",
       "    </tr>\n",
       "  </thead>\n",
       "  <tbody>\n",
       "    <tr>\n",
       "      <td>salt</td>\n",
       "      <td>332405</td>\n",
       "      <td>1</td>\n",
       "      <td>1</td>\n",
       "      <td>1</td>\n",
       "      <td>0</td>\n",
       "      <td>0</td>\n",
       "      <td>0</td>\n",
       "    </tr>\n",
       "    <tr>\n",
       "      <td>sugar</td>\n",
       "      <td>267311</td>\n",
       "      <td>1</td>\n",
       "      <td>1</td>\n",
       "      <td>1</td>\n",
       "      <td>0</td>\n",
       "      <td>0</td>\n",
       "      <td>1</td>\n",
       "    </tr>\n",
       "    <tr>\n",
       "      <td>butter</td>\n",
       "      <td>224999</td>\n",
       "      <td>0</td>\n",
       "      <td>1</td>\n",
       "      <td>0</td>\n",
       "      <td>0</td>\n",
       "      <td>0</td>\n",
       "      <td>1</td>\n",
       "    </tr>\n",
       "    <tr>\n",
       "      <td>garlic</td>\n",
       "      <td>204613</td>\n",
       "      <td>1</td>\n",
       "      <td>1</td>\n",
       "      <td>1</td>\n",
       "      <td>0</td>\n",
       "      <td>0</td>\n",
       "      <td>0</td>\n",
       "    </tr>\n",
       "    <tr>\n",
       "      <td>onion</td>\n",
       "      <td>197860</td>\n",
       "      <td>1</td>\n",
       "      <td>1</td>\n",
       "      <td>1</td>\n",
       "      <td>0</td>\n",
       "      <td>0</td>\n",
       "      <td>0</td>\n",
       "    </tr>\n",
       "    <tr>\n",
       "      <td>egg</td>\n",
       "      <td>183749</td>\n",
       "      <td>1</td>\n",
       "      <td>1</td>\n",
       "      <td>0</td>\n",
       "      <td>0</td>\n",
       "      <td>0</td>\n",
       "      <td>0</td>\n",
       "    </tr>\n",
       "    <tr>\n",
       "      <td>flour</td>\n",
       "      <td>177733</td>\n",
       "      <td>1</td>\n",
       "      <td>0</td>\n",
       "      <td>1</td>\n",
       "      <td>0</td>\n",
       "      <td>0</td>\n",
       "      <td>0</td>\n",
       "    </tr>\n",
       "    <tr>\n",
       "      <td>pepper</td>\n",
       "      <td>167615</td>\n",
       "      <td>1</td>\n",
       "      <td>1</td>\n",
       "      <td>1</td>\n",
       "      <td>0</td>\n",
       "      <td>0</td>\n",
       "      <td>0</td>\n",
       "    </tr>\n",
       "    <tr>\n",
       "      <td>water</td>\n",
       "      <td>148630</td>\n",
       "      <td>1</td>\n",
       "      <td>1</td>\n",
       "      <td>1</td>\n",
       "      <td>0</td>\n",
       "      <td>0</td>\n",
       "      <td>0</td>\n",
       "    </tr>\n",
       "    <tr>\n",
       "      <td>olive oil</td>\n",
       "      <td>147962</td>\n",
       "      <td>1</td>\n",
       "      <td>1</td>\n",
       "      <td>1</td>\n",
       "      <td>0</td>\n",
       "      <td>1</td>\n",
       "      <td>0</td>\n",
       "    </tr>\n",
       "  </tbody>\n",
       "</table>\n",
       "</div>"
      ],
      "text/plain": [
       "            Amount  Lactose  Gluten  Vegan  Iron  Omega 3  Unhealthy\n",
       "Ingredient                                                          \n",
       "salt        332405        1       1      1     0        0          0\n",
       "sugar       267311        1       1      1     0        0          1\n",
       "butter      224999        0       1      0     0        0          1\n",
       "garlic      204613        1       1      1     0        0          0\n",
       "onion       197860        1       1      1     0        0          0\n",
       "egg         183749        1       1      0     0        0          0\n",
       "flour       177733        1       0      1     0        0          0\n",
       "pepper      167615        1       1      1     0        0          0\n",
       "water       148630        1       1      1     0        0          0\n",
       "olive oil   147962        1       1      1     0        1          0"
      ]
     },
     "execution_count": 21,
     "metadata": {},
     "output_type": "execute_result"
    }
   ],
   "source": [
    "# Importing the data\n",
    "initial_time = time.time()\n",
    "df_200_ingredients = pd.read_excel('data/ingredients.xlsx', index_col=0)\n",
    "print(\"(Time:\", round(time.time() - initial_time, 2), \"seconds)\")\n",
    "printMain(\"New dataFrame of top 200 ingredients: \")\n",
    "df_200_ingredients.head(10)"
   ]
  },
  {
   "cell_type": "markdown",
   "metadata": {},
   "source": [
    "This new dataframe contains 6 new columns for each one of the 300 ingredients:\n",
    "\n",
    "- Lactose: Whether or not a lactose intolerance person can eat this ingredient (1: Yes, 0: No)\n",
    "- Gluten: Whether or not a gluten intolerance person can eat this ingredient (1: Yes, 0: No)\n",
    "- Vegetarian: Whether or not a vegetarian person can eat this ingredients (1: Yes, 0: No)\n",
    "- Iron: Weather or not this ingrededient is recomended for countering a lack of iron (1: Yes, 0: No)\n",
    "- Omega 3: Weather or not this ingrededient is recomended for countering a lack of omega 3 (1: Yes, 0: No)\n",
    "- Strange: If this ingredient has something strange to be analysed is marked with a 1 (see next cells)\n",
    "\n",
    "If there is enough time, we would like to add more information to this dataframe (f.g. spicy food)\n",
    "\n",
    "For the Iron and Omega 3, we have selected the 5 most common recomendations done by doctors:\n",
    "**TODO: Sources of the information**"
   ]
  },
  {
   "cell_type": "code",
   "execution_count": 22,
   "metadata": {},
   "outputs": [
    {
     "name": "stdout",
     "output_type": "stream",
     "text": [
      "\u001b[94m\u001b[1m5 ingredients recommended for getting Omega 3:\u001b[0m\n"
     ]
    },
    {
     "data": {
      "text/html": [
       "<div>\n",
       "<style scoped>\n",
       "    .dataframe tbody tr th:only-of-type {\n",
       "        vertical-align: middle;\n",
       "    }\n",
       "\n",
       "    .dataframe tbody tr th {\n",
       "        vertical-align: top;\n",
       "    }\n",
       "\n",
       "    .dataframe thead th {\n",
       "        text-align: right;\n",
       "    }\n",
       "</style>\n",
       "<table border=\"1\" class=\"dataframe\">\n",
       "  <thead>\n",
       "    <tr style=\"text-align: right;\">\n",
       "      <th></th>\n",
       "      <th>Amount</th>\n",
       "      <th>Lactose</th>\n",
       "      <th>Gluten</th>\n",
       "      <th>Vegan</th>\n",
       "      <th>Iron</th>\n",
       "      <th>Omega 3</th>\n",
       "      <th>Unhealthy</th>\n",
       "    </tr>\n",
       "    <tr>\n",
       "      <th>Ingredient</th>\n",
       "      <th></th>\n",
       "      <th></th>\n",
       "      <th></th>\n",
       "      <th></th>\n",
       "      <th></th>\n",
       "      <th></th>\n",
       "      <th></th>\n",
       "    </tr>\n",
       "  </thead>\n",
       "  <tbody>\n",
       "    <tr>\n",
       "      <td>olive oil</td>\n",
       "      <td>147962</td>\n",
       "      <td>1</td>\n",
       "      <td>1</td>\n",
       "      <td>1</td>\n",
       "      <td>0</td>\n",
       "      <td>1</td>\n",
       "      <td>0</td>\n",
       "    </tr>\n",
       "    <tr>\n",
       "      <td>avocado</td>\n",
       "      <td>10584</td>\n",
       "      <td>1</td>\n",
       "      <td>1</td>\n",
       "      <td>1</td>\n",
       "      <td>0</td>\n",
       "      <td>1</td>\n",
       "      <td>0</td>\n",
       "    </tr>\n",
       "    <tr>\n",
       "      <td>shrimp</td>\n",
       "      <td>9753</td>\n",
       "      <td>1</td>\n",
       "      <td>1</td>\n",
       "      <td>0</td>\n",
       "      <td>1</td>\n",
       "      <td>1</td>\n",
       "      <td>0</td>\n",
       "    </tr>\n",
       "    <tr>\n",
       "      <td>broccoli</td>\n",
       "      <td>8496</td>\n",
       "      <td>1</td>\n",
       "      <td>1</td>\n",
       "      <td>1</td>\n",
       "      <td>0</td>\n",
       "      <td>1</td>\n",
       "      <td>0</td>\n",
       "    </tr>\n",
       "    <tr>\n",
       "      <td>salmon</td>\n",
       "      <td>5380</td>\n",
       "      <td>1</td>\n",
       "      <td>1</td>\n",
       "      <td>1</td>\n",
       "      <td>0</td>\n",
       "      <td>1</td>\n",
       "      <td>0</td>\n",
       "    </tr>\n",
       "  </tbody>\n",
       "</table>\n",
       "</div>"
      ],
      "text/plain": [
       "            Amount  Lactose  Gluten  Vegan  Iron  Omega 3  Unhealthy\n",
       "Ingredient                                                          \n",
       "olive oil   147962        1       1      1     0        1          0\n",
       "avocado      10584        1       1      1     0        1          0\n",
       "shrimp        9753        1       1      0     1        1          0\n",
       "broccoli      8496        1       1      1     0        1          0\n",
       "salmon        5380        1       1      1     0        1          0"
      ]
     },
     "execution_count": 22,
     "metadata": {},
     "output_type": "execute_result"
    }
   ],
   "source": [
    "printMain(\"5 ingredients recommended for getting Omega 3:\")\n",
    "df_200_ingredients[df_200_ingredients[\"Omega 3\"] == 1]"
   ]
  },
  {
   "cell_type": "code",
   "execution_count": 23,
   "metadata": {},
   "outputs": [
    {
     "name": "stdout",
     "output_type": "stream",
     "text": [
      "\u001b[94m\u001b[1m5 ingredients recommended for getting Iron:\u001b[0m\n"
     ]
    },
    {
     "data": {
      "text/html": [
       "<div>\n",
       "<style scoped>\n",
       "    .dataframe tbody tr th:only-of-type {\n",
       "        vertical-align: middle;\n",
       "    }\n",
       "\n",
       "    .dataframe tbody tr th {\n",
       "        vertical-align: top;\n",
       "    }\n",
       "\n",
       "    .dataframe thead th {\n",
       "        text-align: right;\n",
       "    }\n",
       "</style>\n",
       "<table border=\"1\" class=\"dataframe\">\n",
       "  <thead>\n",
       "    <tr style=\"text-align: right;\">\n",
       "      <th></th>\n",
       "      <th>Amount</th>\n",
       "      <th>Lactose</th>\n",
       "      <th>Gluten</th>\n",
       "      <th>Vegan</th>\n",
       "      <th>Iron</th>\n",
       "      <th>Omega 3</th>\n",
       "      <th>Unhealthy</th>\n",
       "    </tr>\n",
       "    <tr>\n",
       "      <th>Ingredient</th>\n",
       "      <th></th>\n",
       "      <th></th>\n",
       "      <th></th>\n",
       "      <th></th>\n",
       "      <th></th>\n",
       "      <th></th>\n",
       "      <th></th>\n",
       "    </tr>\n",
       "  </thead>\n",
       "  <tbody>\n",
       "    <tr>\n",
       "      <td>parsley</td>\n",
       "      <td>61458</td>\n",
       "      <td>1</td>\n",
       "      <td>1</td>\n",
       "      <td>1</td>\n",
       "      <td>1</td>\n",
       "      <td>0</td>\n",
       "      <td>0</td>\n",
       "    </tr>\n",
       "    <tr>\n",
       "      <td>beef</td>\n",
       "      <td>25444</td>\n",
       "      <td>1</td>\n",
       "      <td>1</td>\n",
       "      <td>0</td>\n",
       "      <td>1</td>\n",
       "      <td>0</td>\n",
       "      <td>0</td>\n",
       "    </tr>\n",
       "    <tr>\n",
       "      <td>spinach</td>\n",
       "      <td>14985</td>\n",
       "      <td>1</td>\n",
       "      <td>1</td>\n",
       "      <td>1</td>\n",
       "      <td>1</td>\n",
       "      <td>0</td>\n",
       "      <td>0</td>\n",
       "    </tr>\n",
       "    <tr>\n",
       "      <td>shrimp</td>\n",
       "      <td>9753</td>\n",
       "      <td>1</td>\n",
       "      <td>1</td>\n",
       "      <td>0</td>\n",
       "      <td>1</td>\n",
       "      <td>1</td>\n",
       "      <td>0</td>\n",
       "    </tr>\n",
       "    <tr>\n",
       "      <td>green beans</td>\n",
       "      <td>5029</td>\n",
       "      <td>1</td>\n",
       "      <td>1</td>\n",
       "      <td>1</td>\n",
       "      <td>1</td>\n",
       "      <td>0</td>\n",
       "      <td>0</td>\n",
       "    </tr>\n",
       "  </tbody>\n",
       "</table>\n",
       "</div>"
      ],
      "text/plain": [
       "             Amount  Lactose  Gluten  Vegan  Iron  Omega 3  Unhealthy\n",
       "Ingredient                                                           \n",
       "parsley       61458        1       1      1     1        0          0\n",
       "beef          25444        1       1      0     1        0          0\n",
       "spinach       14985        1       1      1     1        0          0\n",
       "shrimp         9753        1       1      0     1        1          0\n",
       "green beans    5029        1       1      1     1        0          0"
      ]
     },
     "execution_count": 23,
     "metadata": {},
     "output_type": "execute_result"
    }
   ],
   "source": [
    "printMain(\"5 ingredients recommended for getting Iron:\")\n",
    "df_200_ingredients[df_200_ingredients[\"Iron\"] == 1]"
   ]
  },
  {
   "cell_type": "markdown",
   "metadata": {},
   "source": [
    "----"
   ]
  },
  {
   "cell_type": "markdown",
   "metadata": {},
   "source": [
    "## 2) General analysis of the data\n",
    "\n",
    "In this second part, we do a general analysis of the data treated in the previous sections. Our objective is to make sure we can get from the data what we expect, find unwanted characteristics of the data as well as outliers. \n",
    "\n",
    "In this part we want to answer a few questions that will help us for future analysis, and also, as said before, to ensure we can reach the objectives set. This are some of the questions:\n",
    "\n",
    "- What is the distribution of number of appearances of the ingredients in recpies?\n",
    "- Are there dominant ingredients?\n",
    "- Are the most common ingredients healthy?\n",
    "- Is it easier or harder to eat healthy with the selected diets?\n",
    "- What is the distribution of the number of ingredients of recepies?\n",
    "- Does the distribution change when taking into account the diets?\n",
    "- ...\n",
    "\n",
    "*In this part we found out the formating problems mentioned in the previous section that lead into the creating of the formating dictionary. However, for better understanding and cleaness of the notebook, we decided to do the formating before.*"
   ]
  },
  {
   "cell_type": "markdown",
   "metadata": {},
   "source": [
    "### How is the distribution of the length of ingredients of the recipes?\n",
    "\n",
    "We want to see how the ~5000 ingredients are distributed in terms of number of appearances in recpies. For this we calculate the average and plot in a histogram the distribution."
   ]
  },
  {
   "cell_type": "code",
   "execution_count": 24,
   "metadata": {},
   "outputs": [
    {
     "name": "stdout",
     "output_type": "stream",
     "text": [
      "\u001b[92mNumber of total ingredients: 5533 \u001b[0m\n",
      "\u001b[94m\u001b[1mAverage of appearances of the ingredients in recipes: 1234.52 appearances.\u001b[0m\n"
     ]
    },
    {
     "data": {
      "image/png": "[encoded data removed]",
      "text/plain": [
       "<Figure size 1080x504 with 1 Axes>"
      ]
     },
     "metadata": {
      "needs_background": "light"
     },
     "output_type": "display_data"
    }
   ],
   "source": [
    "initial_time = time.time()\n",
    "repetitionArray = []\n",
    "mean = 0\n",
    "for i in sorted_ingredients:\n",
    "    repetitionArray.append(i[1])\n",
    "    mean += i[1]\n",
    "    \n",
    "mean = mean/len(repetitionArray)\n",
    "print(color.GREEN + \"Number of total ingredients:\", len(repetitionArray), color.END)\n",
    "printMain(\"Average of appearances of the ingredients in recipes: \" + str(round(mean, 2)) + \" appearances.\")\n",
    "fig, ax = plt.subplots(figsize=(15, 7))\n",
    "fig.suptitle('Ingredients repetition', fontsize=20)\n",
    "plt.xlabel('Number of appearances', fontsize=16)\n",
    "plt.ylabel('Number of ingredients', fontsize=16)\n",
    "ax.hist(repetitionArray,bins=30, alpha=0.7)\n",
    "plt.show(fig)"
   ]
  },
  {
   "cell_type": "markdown",
   "metadata": {},
   "source": [
    "In the above plot we can not really see how the distribution of ingredients appearances is, but we can know that the big mayority of ingredients (> 160000, nearly 100%) appear in a low ammount of recepies. \n",
    "\n",
    "Let's do the same analysis but with ingredients in more than 2000 appearances."
   ]
  },
  {
   "cell_type": "code",
   "execution_count": 25,
   "metadata": {
    "scrolled": false
   },
   "outputs": [
    {
     "name": "stdout",
     "output_type": "stream",
     "text": [
      "\u001b[94m\u001b[1mIngredients in more than 2000 recipes:\u001b[0m\n",
      "\u001b[92mNumber of total ingredients: 261 \u001b[0m\n",
      "\u001b[94m\u001b[1mAverage of appearances of the ingredients in recpies: 20511.25 appearances.\u001b[0m\n"
     ]
    },
    {
     "data": {
      "image/png": "[encoded data removed]",
      "text/plain": [
       "<Figure size 1080x504 with 1 Axes>"
      ]
     },
     "metadata": {
      "needs_background": "light"
     },
     "output_type": "display_data"
    }
   ],
   "source": [
    "initial_time = time.time()\n",
    "repetitionArray2 = []\n",
    "mean2 = 0\n",
    "for i in sorted_ingredients:\n",
    "    if i[1] > 2000:\n",
    "        mean += i[1]\n",
    "        repetitionArray2.append(i[1])\n",
    "        \n",
    "mean = mean/len(repetitionArray2)\n",
    "    \n",
    "printMain(\"Ingredients in more than 2000 recipes:\")\n",
    "print(color.GREEN + \"Number of total ingredients:\", len(repetitionArray2), color.END)\n",
    "printMain(\"Average of appearances of the ingredients in recpies: \" + str(round(mean, 2)) + \" appearances.\")\n",
    "fig, ax = plt.subplots(figsize=(15, 7))\n",
    "fig.suptitle('Ingredients repetition', fontsize=20)\n",
    "plt.xlabel('Number of recepies', fontsize=16)\n",
    "plt.ylabel('Number of ingredients', fontsize=16)\n",
    "ax.hist(repetitionArray2, bins=30, alpha=0.7)\n",
    "plt.show(fig)"
   ]
  },
  {
   "cell_type": "markdown",
   "metadata": {},
   "source": [
    "Eventhough we have zoomed to avoid the ingredients repeated a few number of times, we still see that there are much more ingredients in the lower repetition part of the histogram. This shows us that we base our diet in a small ammount of ingredients, depending a lot on it. This lead us into the next question:\n",
    "\n",
    "### Are there dominant ingredients?\n",
    "\n",
    "The answer is yes, but let's see which ones are this, and how dominant they are they. For this, lets print a bar plot of the top 10 ingredients appearnace."
   ]
  },
  {
   "cell_type": "code",
   "execution_count": 26,
   "metadata": {},
   "outputs": [
    {
     "data": {
      "image/png": "[encoded data removed]",
      "text/plain": [
       "<Figure size 1080x504 with 1 Axes>"
      ]
     },
     "metadata": {
      "needs_background": "light"
     },
     "output_type": "display_data"
    }
   ],
   "source": [
    "top10_ingredients = ingredients[:10]\n",
    "top10_percentages = []\n",
    "\n",
    "for i in repetitionArray2[:10]:\n",
    "    top10_percentages.append(100*(i/len(df_ingredients)))\n",
    "fig, ax = plt.subplots(figsize=(15, 7))\n",
    "plt.bar(np.arange(len(top10_percentages)), top10_percentages,\n",
    "       align='center',\n",
    "       alpha=0.7,\n",
    "       ecolor='black',\n",
    "       capsize=10, \n",
    "       tick_label=top10_ingredients) \n",
    "fig.suptitle('Top 10 ingredients percentage of appearances', fontsize=20)\n",
    "plt.ylabel('Percentage of appearances', fontsize=16)\n",
    "plt.xlabel('Ingredient', fontsize=16)\n",
    "plt.xticks(fontsize=11)\n",
    "plt.yticks(fontsize=13)\n",
    "plt.show()"
   ]
  },
  {
   "cell_type": "markdown",
   "metadata": {},
   "source": [
    "We can see that there are ingredients really dominant in our diet nowadays. `Salt` and `Sugar` is present in close to 50% of the recipes. To see this with more prespective, let's get the average precentage of appearances:"
   ]
  },
  {
   "cell_type": "code",
   "execution_count": 27,
   "metadata": {},
   "outputs": [
    {
     "name": "stdout",
     "output_type": "stream",
     "text": [
      "\u001b[94m\u001b[1mAverage percentage of appearances of ingredients in recipes: 2.62%\u001b[0m\n"
     ]
    }
   ],
   "source": [
    "printMain(\"Average percentage of appearances of ingredients in recipes: \" + str(round(100*mean/len(df_ingredients), 2)) + \"%\")"
   ]
  },
  {
   "cell_type": "markdown",
   "metadata": {},
   "source": [
    "Once again we can see that there is a huge dominance of the top ingredients in the way we eat, confirming to us that the decision made of concentraiting efford in the top 200 ingredients is, indeed, a good idea.\n",
    "\n",
    "*Before the formating of the ingredients name with the aforementioned dictionary, the sugar was on the 3rd postion with a precentage of appearances of 30% (now is above 40%). This is just an example of why the forating was so important. In the case of the sugar, there were a lot of names for sugar, which is actually an important distinction for someone reading the recipe, but not for health, and, therefore, for us.*"
   ]
  },
  {
   "cell_type": "markdown",
   "metadata": {},
   "source": [
    "### Are the most common ingredients healthy?\n",
    "\n",
    "To answer this, let's get the unhealthy ingredients in the top 200 into a list and plot the top 10 (of the unhealthy) in a bar plot. "
   ]
  },
  {
   "cell_type": "code",
   "execution_count": 28,
   "metadata": {},
   "outputs": [
    {
     "name": "stdout",
     "output_type": "stream",
     "text": [
      "\u001b[94m\u001b[1mTop 10 unhealthy ingredients: \u001b[0m\n"
     ]
    },
    {
     "data": {
      "text/plain": [
       "['sugar',\n",
       " 'butter',\n",
       " 'vegetable oil',\n",
       " 'baking powder',\n",
       " 'cream',\n",
       " 'sour cream',\n",
       " 'cream cheese',\n",
       " 'cumin',\n",
       " 'mayonnaise',\n",
       " 'chocolate']"
      ]
     },
     "execution_count": 28,
     "metadata": {},
     "output_type": "execute_result"
    }
   ],
   "source": [
    "df_unhealthy_ingredients = df_200_ingredients[df_200_ingredients[\"Unhealthy\"] == 1]\n",
    "unhealthy_ingredients = list(df_unhealthy_ingredients.index)\n",
    "printMain(\"Top 10 unhealthy ingredients: \")\n",
    "unhealthy_ingredients[:10]"
   ]
  },
  {
   "cell_type": "code",
   "execution_count": 29,
   "metadata": {},
   "outputs": [
    {
     "data": {
      "image/png": "[encoded data removed]",
      "text/plain": [
       "<Figure size 1080x504 with 1 Axes>"
      ]
     },
     "metadata": {
      "needs_background": "light"
     },
     "output_type": "display_data"
    }
   ],
   "source": [
    "top10_percentages_unhealthy = []\n",
    "\n",
    "for i in unhealthy_ingredients[:10]:\n",
    "    top10_percentages_unhealthy.append(100*(dic_ingredients[i]/len(df_ingredients)))\n",
    "\n",
    "fig, ax = plt.subplots(figsize=(15, 7))\n",
    "plt.bar(np.arange(10), top10_percentages_unhealthy,\n",
    "       align='center',\n",
    "       alpha=0.7,\n",
    "       ecolor='black',\n",
    "       capsize=10, \n",
    "       tick_label=unhealthy_ingredients[:10]) \n",
    "fig.suptitle('Top 10 unhealthy ingredients percentage of appearances', fontsize=20)\n",
    "plt.ylabel('Percentage of appearances', fontsize=16)\n",
    "plt.xlabel('Ingredient', fontsize=16)\n",
    "plt.xticks(fontsize=11)\n",
    "plt.yticks(fontsize=13)\n",
    "plt.show()"
   ]
  },
  {
   "cell_type": "markdown",
   "metadata": {},
   "source": [
    "We can see that there are some really dominant ingredients that are unhealthy (specially `sugar` and `butter`). This is going to make a lot of recepies unhealthy.\n",
    "\n",
    "**Important note:** We understand that it is also important to the \"healthiness\" of a recipe the quantity of these \"unhealthy\" ingredients in the recepies. There are two reasons why we do not take this into account. Firstly, the way the quantities are defined in the dataset is impossible to automate the reading of the values, as they are directly extracted form the real recipes in web pages. Secondly, we belive we can still make the analysis we try to do as in the big mayority of recipes where unhealthy ingredients are used, they are used in an enough quantity to consider them as unhealthy. It is not common to use these unhealthy ingredients in such a low quantity that the meal created can be cataloged as healthy.\n",
    "\n",
    "Let's finnaly see how this really affect the recipes. Let's catalog recipes as healthy or unhealthy, depending on if they contain or not unhealthy ingredients. Then, let's see what is the precentage of unhealthy recipes."
   ]
  },
  {
   "cell_type": "code",
   "execution_count": 30,
   "metadata": {},
   "outputs": [
    {
     "name": "stdout",
     "output_type": "stream",
     "text": [
      "(Time: 2.95 seconds)\n"
     ]
    },
    {
     "data": {
      "text/html": [
       "<div>\n",
       "<style scoped>\n",
       "    .dataframe tbody tr th:only-of-type {\n",
       "        vertical-align: middle;\n",
       "    }\n",
       "\n",
       "    .dataframe tbody tr th {\n",
       "        vertical-align: top;\n",
       "    }\n",
       "\n",
       "    .dataframe thead th {\n",
       "        text-align: right;\n",
       "    }\n",
       "</style>\n",
       "<table border=\"1\" class=\"dataframe\">\n",
       "  <thead>\n",
       "    <tr style=\"text-align: right;\">\n",
       "      <th></th>\n",
       "      <th>id</th>\n",
       "      <th>ingredients</th>\n",
       "      <th>Unhealthy</th>\n",
       "    </tr>\n",
       "  </thead>\n",
       "  <tbody>\n",
       "    <tr>\n",
       "      <td>1</td>\n",
       "      <td>000033e39b</td>\n",
       "      <td>[pasta, salt, bell pepper, pimentos, mayonnais...</td>\n",
       "      <td>1</td>\n",
       "    </tr>\n",
       "    <tr>\n",
       "      <td>2</td>\n",
       "      <td>000035f7ed</td>\n",
       "      <td>[olive oil, cucumber, salt, tomatoes, bell pep...</td>\n",
       "      <td>0</td>\n",
       "    </tr>\n",
       "    <tr>\n",
       "      <td>3</td>\n",
       "      <td>00003a70b1</td>\n",
       "      <td>[milk, french - fried onions, whole kernel cor...</td>\n",
       "      <td>1</td>\n",
       "    </tr>\n",
       "    <tr>\n",
       "      <td>5</td>\n",
       "      <td>0000631d90</td>\n",
       "      <td>[beef, fresh garlic, cashew nuts, lemon, salt ...</td>\n",
       "      <td>1</td>\n",
       "    </tr>\n",
       "    <tr>\n",
       "      <td>6</td>\n",
       "      <td>000075604a</td>\n",
       "      <td>[tea, pepper, chicken]</td>\n",
       "      <td>0</td>\n",
       "    </tr>\n",
       "  </tbody>\n",
       "</table>\n",
       "</div>"
      ],
      "text/plain": [
       "           id                                        ingredients  Unhealthy\n",
       "1  000033e39b  [pasta, salt, bell pepper, pimentos, mayonnais...          1\n",
       "2  000035f7ed  [olive oil, cucumber, salt, tomatoes, bell pep...          0\n",
       "3  00003a70b1  [milk, french - fried onions, whole kernel cor...          1\n",
       "5  0000631d90  [beef, fresh garlic, cashew nuts, lemon, salt ...          1\n",
       "6  000075604a                             [tea, pepper, chicken]          0"
      ]
     },
     "execution_count": 30,
     "metadata": {},
     "output_type": "execute_result"
    }
   ],
   "source": [
    "def isUnhealty(x):\n",
    "    for i in x:\n",
    "        if i in unhealthy_ingredients:\n",
    "            return 1\n",
    "    return 0\n",
    "initial_time = time.time()\n",
    "df_ingredients[\"Unhealthy\"] = df_ingredients[\"ingredients\"].apply(isUnhealty)\n",
    "print(\"(Time:\", round(time.time() - initial_time, 2), \"seconds)\")\n",
    "df_ingredients.head()"
   ]
  },
  {
   "cell_type": "code",
   "execution_count": 31,
   "metadata": {
    "scrolled": true
   },
   "outputs": [
    {
     "name": "stdout",
     "output_type": "stream",
     "text": [
      "\u001b[94m\u001b[1mNumber of unhealthy recepies: 552644\u001b[0m\n",
      "\u001b[94m\u001b[1mNumber of healthy recepies: 229000\u001b[0m\n",
      "\u001b[94m\u001b[1mPercentage of unhealthy recipes: 0.71%\u001b[0m\n"
     ]
    }
   ],
   "source": [
    "printMain(\"Number of unhealthy recepies: \" + str(len(df_ingredients[df_ingredients[\"Unhealthy\"] == 1])))\n",
    "printMain(\"Number of healthy recepies: \" + str(len(df_ingredients[df_ingredients[\"Unhealthy\"] == 0])))\n",
    "printMain(\"Percentage of unhealthy recipes: \" + str(round(len(df_ingredients[df_ingredients[\"Unhealthy\"] == 1])/len(df_ingredients),2)) + \"%\")"
   ]
  },
  {
   "cell_type": "markdown",
   "metadata": {},
   "source": [
    "We can see then that only ~30% of the recipes are healthy. This lead us into the next question."
   ]
  },
  {
   "cell_type": "markdown",
   "metadata": {},
   "source": [
    "### Is it easier or harder to eat healthy with the selected diets?\n",
    "\n",
    "Let's mark the recipes as being approved for the different diets."
   ]
  },
  {
   "cell_type": "code",
   "execution_count": 39,
   "metadata": {},
   "outputs": [
    {
     "name": "stdout",
     "output_type": "stream",
     "text": [
      "(Time: 2.01 seconds)\n",
      "\u001b[94m\u001b[1mNumber of gluten free recepies: 356344\u001b[0m\n"
     ]
    }
   ],
   "source": [
    "# LactoseFree recipes\n",
    "initial_time = time.time()\n",
    "lactose_ingredients = df_200_ingredients[df_200_ingredients[\"Lactose\"] == 0]\n",
    "lactose_ingredients = list(lactose_ingredients.index)\n",
    "def isLactolseFree(x):\n",
    "    for i in x:\n",
    "        if i in lactose_ingredients:\n",
    "            return 0\n",
    "    return 1\n",
    "df_ingredients[\"LactoseFree\"] = df_ingredients[\"ingredients\"].apply(isLactolseFree)\n",
    "print(\"(Time:\", round(time.time() - initial_time, 2), \"seconds)\")\n",
    "printMain(\"Number of gluten free recepies: \" + str(len(df_ingredients[df_ingredients[\"LactolseFree\"] == 1])))"
   ]
  },
  {
   "cell_type": "code",
   "execution_count": 33,
   "metadata": {},
   "outputs": [
    {
     "name": "stdout",
     "output_type": "stream",
     "text": [
      "(Time: 2.06 seconds)\n",
      "\u001b[94m\u001b[1mNumber of gluten free recepies: 559626\u001b[0m\n"
     ]
    }
   ],
   "source": [
    "# GlutenFree recipes\n",
    "initial_time = time.time()\n",
    "gluten_ingredients = df_200_ingredients[df_200_ingredients[\"Gluten\"] == 0]\n",
    "gluten_ingredients = list(gluten_ingredients.index)\n",
    "def isGlutenFree(x):\n",
    "    for i in x:\n",
    "        if i in gluten_ingredients:\n",
    "            return 0\n",
    "    return 1\n",
    "df_ingredients[\"GlutenFree\"] = df_ingredients[\"ingredients\"].apply(isGlutenFree)\n",
    "print(\"(Time:\", round(time.time() - initial_time, 2), \"seconds)\")\n",
    "printMain(\"Number of gluten free recepies: \" + str(len(df_ingredients[df_ingredients[\"GlutenFree\"] == 1])))"
   ]
  },
  {
   "cell_type": "code",
   "execution_count": 34,
   "metadata": {},
   "outputs": [
    {
     "name": "stdout",
     "output_type": "stream",
     "text": [
      "(Time: 2.65 seconds)\n",
      "\u001b[94m\u001b[1mNumber of vegan recepies: 219984\u001b[0m\n"
     ]
    }
   ],
   "source": [
    "# Vegan recipes\n",
    "initial_time = time.time()\n",
    "vegan_ingredients_blacklist = df_200_ingredients[df_200_ingredients[\"Vegan\"] == 0                                           ]\n",
    "vegan_ingredients_blacklist = list(vegan_ingredients_blacklist.index)\n",
    "def isVegan(x):\n",
    "    for i in x:\n",
    "        if i in vegan_ingredients_blacklist:\n",
    "            return 0\n",
    "    return 1\n",
    "df_ingredients[\"Vegan\"] = df_ingredients[\"ingredients\"].apply(isVegan)\n",
    "print(\"(Time:\", round(time.time() - initial_time, 2), \"seconds)\")\n",
    "printMain(\"Number of vegan recepies: \" + str(len(df_ingredients[df_ingredients[\"Vegan\"] == 1])))"
   ]
  },
  {
   "cell_type": "markdown",
   "metadata": {},
   "source": [
    "Now, let's plot the precentage of healthy recipes per type of diet."
   ]
  },
  {
   "cell_type": "code",
   "execution_count": 40,
   "metadata": {},
   "outputs": [
    {
     "data": {
      "image/png": "[encoded data removed]",
      "text/plain": [
       "<Figure size 1080x504 with 1 Axes>"
      ]
     },
     "metadata": {
      "needs_background": "light"
     },
     "output_type": "display_data"
    }
   ],
   "source": [
    "_data = []\n",
    "_data.append(100*len(df_ingredients[(df_ingredients[\"LactoseFree\"] == 1) & (df_ingredients[\"Unhealthy\"] == 0)])/len(df_ingredients[df_ingredients[\"LactoseFree\"] == 1]))\n",
    "_data.append(100*len(df_ingredients[(df_ingredients[\"GlutenFree\"] == 1) & (df_ingredients[\"Unhealthy\"] == 0)])/len(df_ingredients[df_ingredients[\"GlutenFree\"] == 1]))\n",
    "_data.append(100*len(df_ingredients[(df_ingredients[\"Vegan\"] == 1) & (df_ingredients[\"Unhealthy\"] == 0)])/len(df_ingredients[df_ingredients[\"Vegan\"] == 1]))\n",
    "_data.append(100*len(df_ingredients[df_ingredients[\"Unhealthy\"] == 0])/len(df_ingredients))\n",
    "_keys = [\"LactoseFree\", \"GlutenFree\", \"Vegan\", \"General\"]\n",
    "fig, ax = plt.subplots(figsize=(15, 7))\n",
    "plt.bar(np.arange(4), _data,\n",
    "       align='center',\n",
    "       alpha=0.7,\n",
    "       ecolor='black',\n",
    "       capsize=10, \n",
    "       tick_label=_keys) \n",
    "fig.suptitle('Percentage of healthy meals depending on the diet', fontsize=20)\n",
    "plt.ylabel('Percentage (%)', fontsize=16)\n",
    "plt.xlabel('Diet', fontsize=16)\n",
    "plt.xticks(fontsize=11)\n",
    "plt.yticks(fontsize=13)\n",
    "plt.show()"
   ]
  },
  {
   "cell_type": "markdown",
   "metadata": {},
   "source": [
    "We can see that there are changes in the results. Apparently, for a vegan is easier to avoid unhealthy food than for a person with a regular diet. Abviously this is a simple approach, as we are not taking other things into account. However, it will help us a lot in the analysis for next milestone."
   ]
  },
  {
   "cell_type": "markdown",
   "metadata": {},
   "source": [
    "### What is the distribution of the number of ingredients of recepies?\n",
    "\n",
    "Let's add a new feature to the dataFrame `df_ingredients`that has the length of the list of ingredients per recipe. Then, let's plot the distribution of values of this column."
   ]
  },
  {
   "cell_type": "code",
   "execution_count": 41,
   "metadata": {},
   "outputs": [
    {
     "name": "stdout",
     "output_type": "stream",
     "text": [
      "(Time: 0.39 seconds)\n",
      "\u001b[94m\u001b[1mDataFrame with new column: \u001b[0m\n"
     ]
    },
    {
     "data": {
      "text/html": [
       "<div>\n",
       "<style scoped>\n",
       "    .dataframe tbody tr th:only-of-type {\n",
       "        vertical-align: middle;\n",
       "    }\n",
       "\n",
       "    .dataframe tbody tr th {\n",
       "        vertical-align: top;\n",
       "    }\n",
       "\n",
       "    .dataframe thead th {\n",
       "        text-align: right;\n",
       "    }\n",
       "</style>\n",
       "<table border=\"1\" class=\"dataframe\">\n",
       "  <thead>\n",
       "    <tr style=\"text-align: right;\">\n",
       "      <th></th>\n",
       "      <th>id</th>\n",
       "      <th>ingredients</th>\n",
       "      <th>Unhealthy</th>\n",
       "      <th>LactolseFree</th>\n",
       "      <th>GlutenFree</th>\n",
       "      <th>Vegan</th>\n",
       "      <th>length</th>\n",
       "      <th>LactoseFree</th>\n",
       "    </tr>\n",
       "  </thead>\n",
       "  <tbody>\n",
       "    <tr>\n",
       "      <td>1</td>\n",
       "      <td>000033e39b</td>\n",
       "      <td>[pasta, salt, bell pepper, pimentos, mayonnais...</td>\n",
       "      <td>1</td>\n",
       "      <td>0</td>\n",
       "      <td>0</td>\n",
       "      <td>0</td>\n",
       "      <td>9</td>\n",
       "      <td>0</td>\n",
       "    </tr>\n",
       "    <tr>\n",
       "      <td>2</td>\n",
       "      <td>000035f7ed</td>\n",
       "      <td>[olive oil, cucumber, salt, tomatoes, bell pep...</td>\n",
       "      <td>0</td>\n",
       "      <td>1</td>\n",
       "      <td>1</td>\n",
       "      <td>1</td>\n",
       "      <td>8</td>\n",
       "      <td>1</td>\n",
       "    </tr>\n",
       "    <tr>\n",
       "      <td>3</td>\n",
       "      <td>00003a70b1</td>\n",
       "      <td>[milk, french - fried onions, whole kernel cor...</td>\n",
       "      <td>1</td>\n",
       "      <td>0</td>\n",
       "      <td>1</td>\n",
       "      <td>0</td>\n",
       "      <td>7</td>\n",
       "      <td>0</td>\n",
       "    </tr>\n",
       "    <tr>\n",
       "      <td>5</td>\n",
       "      <td>0000631d90</td>\n",
       "      <td>[beef, fresh garlic, cashew nuts, lemon, salt ...</td>\n",
       "      <td>1</td>\n",
       "      <td>1</td>\n",
       "      <td>1</td>\n",
       "      <td>0</td>\n",
       "      <td>10</td>\n",
       "      <td>1</td>\n",
       "    </tr>\n",
       "    <tr>\n",
       "      <td>6</td>\n",
       "      <td>000075604a</td>\n",
       "      <td>[tea, pepper, chicken]</td>\n",
       "      <td>0</td>\n",
       "      <td>1</td>\n",
       "      <td>1</td>\n",
       "      <td>0</td>\n",
       "      <td>3</td>\n",
       "      <td>1</td>\n",
       "    </tr>\n",
       "  </tbody>\n",
       "</table>\n",
       "</div>"
      ],
      "text/plain": [
       "           id                                        ingredients  Unhealthy  \\\n",
       "1  000033e39b  [pasta, salt, bell pepper, pimentos, mayonnais...          1   \n",
       "2  000035f7ed  [olive oil, cucumber, salt, tomatoes, bell pep...          0   \n",
       "3  00003a70b1  [milk, french - fried onions, whole kernel cor...          1   \n",
       "5  0000631d90  [beef, fresh garlic, cashew nuts, lemon, salt ...          1   \n",
       "6  000075604a                             [tea, pepper, chicken]          0   \n",
       "\n",
       "   LactolseFree  GlutenFree  Vegan  length  LactoseFree  \n",
       "1             0           0      0       9            0  \n",
       "2             1           1      1       8            1  \n",
       "3             0           1      0       7            0  \n",
       "5             1           1      0      10            1  \n",
       "6             1           1      0       3            1  "
      ]
     },
     "execution_count": 41,
     "metadata": {},
     "output_type": "execute_result"
    }
   ],
   "source": [
    "initial_time = time.time()\n",
    "df_ingredients['length'] = df_ingredients['ingredients'].apply(lambda x: len(x))\n",
    "print(\"(Time:\", round(time.time() - initial_time, 2), \"seconds)\")\n",
    "printMain(\"DataFrame with new column: \")\n",
    "df_ingredients.head()"
   ]
  },
  {
   "cell_type": "code",
   "execution_count": 61,
   "metadata": {
    "scrolled": false
   },
   "outputs": [
    {
     "name": "stdout",
     "output_type": "stream",
     "text": [
      "(Time: 0.05 seconds)\n"
     ]
    },
    {
     "data": {
      "image/png": "[encoded data removed]",
      "text/plain": [
       "<Figure size 1080x504 with 1 Axes>"
      ]
     },
     "metadata": {
      "needs_background": "light"
     },
     "output_type": "display_data"
    }
   ],
   "source": [
    "initial_time = time.time()\n",
    "fig, ax = plt.subplots(figsize=(15, 7))\n",
    "_data = df_ingredients[\"length\"]\n",
    "_mean = df_ingredients[\"length\"].mean()\n",
    "fig.suptitle('Distribution of the length of the ingredients of recepies', fontsize=20)\n",
    "plt.xlabel('Number of ingredients', fontsize=16)\n",
    "plt.ylabel('Number of recepies', fontsize=16)\n",
    "plt.hist(_data, density=True, bins=44, alpha=0.8, label=\"data\")\n",
    "plt.axvline(_mean, color='red', linestyle='dashed', linewidth=1, label=\"mean\")\n",
    "ax.legend(prop={'size': 20})\n",
    "min_ylim, max_ylim = plt.ylim()\n",
    "plt.text(_mean*1.1, max_ylim*0.9, 'Mean: {:.2f}'.format(_mean), fontsize=20)\n",
    "print(\"(Time:\", round(time.time() - initial_time, 2), \"seconds)\")\n",
    "plt.show(fig)"
   ]
  },
  {
   "cell_type": "markdown",
   "metadata": {},
   "source": [
    "*In this analysis, we found out some outliers with large amount of ingredients (>100). We found out the problem was that some ingredients were repeated in the list. We actually solve this in the formating of ingredients prevouily done. It is done there "
   ]
  },
  {
   "cell_type": "markdown",
   "metadata": {},
   "source": [
    "### Does the distribution change when taking into account the diets?\n",
    "\n",
    "Let's see."
   ]
  },
  {
   "cell_type": "code",
   "execution_count": 62,
   "metadata": {},
   "outputs": [
    {
     "name": "stdout",
     "output_type": "stream",
     "text": [
      "(Time: 0.2 seconds)\n"
     ]
    },
    {
     "data": {
      "image/png": "[encoded data removed]",
      "text/plain": [
       "<Figure size 1080x504 with 1 Axes>"
      ]
     },
     "metadata": {
      "needs_background": "light"
     },
     "output_type": "display_data"
    }
   ],
   "source": [
    "initial_time = time.time()\n",
    "fig, ax = plt.subplots(figsize=(15, 7))\n",
    "_data = df_ingredients[df_ingredients[\"LactoseFree\"] == 1][\"length\"]\n",
    "_mean = df_ingredients[df_ingredients[\"LactoseFree\"] == 1][\"length\"].mean()\n",
    "fig.suptitle('Distribution of the length of the ingredients of recepies lactose free', fontsize=20)\n",
    "plt.xlabel('Number of ingredients', fontsize=16)\n",
    "plt.ylabel('Number of recepies lactose free', fontsize=16)\n",
    "plt.hist(_data, density=True, bins=44, alpha=0.8, label=\"data\")\n",
    "plt.axvline(_mean, color='red', linestyle='dashed', linewidth=1, label=\"mean\")\n",
    "ax.legend(prop={'size': 20})\n",
    "plt.text(_mean*1.1, max_ylim*0.9, 'Mean: {:.2f}'.format(_mean), fontsize=20)\n",
    "print(\"(Time:\", round(time.time() - initial_time, 2), \"seconds)\")\n",
    "plt.show(fig)"
   ]
  },
  {
   "cell_type": "code",
   "execution_count": 65,
   "metadata": {},
   "outputs": [
    {
     "name": "stdout",
     "output_type": "stream",
     "text": [
      "(Time: 0.21 seconds)\n"
     ]
    },
    {
     "data": {
      "image/png": "[encoded data removed]",
      "text/plain": [
       "<Figure size 1080x504 with 1 Axes>"
      ]
     },
     "metadata": {
      "needs_background": "light"
     },
     "output_type": "display_data"
    }
   ],
   "source": [
    "initial_time = time.time()\n",
    "fig, ax = plt.subplots(figsize=(15, 7))\n",
    "_data = df_ingredients[df_ingredients[\"GlutenFree\"] == 1][\"length\"]\n",
    "_mean = df_ingredients[df_ingredients[\"GlutenFree\"] == 1][\"length\"].mean()\n",
    "fig.suptitle('Distribution of the length of the ingredients of recepies gluten free', fontsize=20)\n",
    "plt.xlabel('Number of ingredients', fontsize=16)\n",
    "plt.ylabel('Number of recepies gluten free', fontsize=16)\n",
    "plt.hist(_data, density=True, bins=39, alpha=0.8, label=\"data\")\n",
    "plt.axvline(_mean, color='red', linestyle='dashed', linewidth=1, label=\"mean\")\n",
    "ax.legend(prop={'size': 20})\n",
    "plt.text(_mean*1.1, max_ylim*0.9, 'Mean: {:.2f}'.format(_mean), fontsize=20)\n",
    "print(\"(Time:\", round(time.time() - initial_time, 2), \"seconds)\")\n",
    "plt.show(fig)"
   ]
  },
  {
   "cell_type": "code",
   "execution_count": 66,
   "metadata": {},
   "outputs": [
    {
     "name": "stdout",
     "output_type": "stream",
     "text": [
      "(Time: 0.14 seconds)\n"
     ]
    },
    {
     "data": {
      "image/png": "[encoded data removed]",
      "text/plain": [
       "<Figure size 1080x504 with 1 Axes>"
      ]
     },
     "metadata": {
      "needs_background": "light"
     },
     "output_type": "display_data"
    }
   ],
   "source": [
    "initial_time = time.time()\n",
    "fig, ax = plt.subplots(figsize=(15, 7))\n",
    "_data = df_ingredients[df_ingredients[\"Vegan\"] == 1][\"length\"]\n",
    "_mean = df_ingredients[df_ingredients[\"Vegan\"] == 1][\"length\"].mean()\n",
    "fig.suptitle('Distribution of the length of the ingredients of vegan recepies', fontsize=20)\n",
    "plt.xlabel('Number of ingredients', fontsize=16)\n",
    "plt.ylabel('Number of vegan recepies', fontsize=16)\n",
    "plt.hist(_data, density=True, bins=39, alpha=0.8, label=\"data\")\n",
    "plt.axvline(_mean, color='red', linestyle='dashed', linewidth=1, label=\"mean\")\n",
    "ax.legend(prop={'size': 20})\n",
    "plt.text(_mean*1.1, max_ylim*0.9, 'Mean: {:.2f}'.format(_mean), fontsize=20)\n",
    "print(\"(Time:\", round(time.time() - initial_time, 2), \"seconds)\")\n",
    "plt.show(fig)"
   ]
  },
  {
   "cell_type": "markdown",
   "metadata": {},
   "source": [
    "We see there are small changes in the distributions in the different diets, but they are not significant."
   ]
  },
  {
   "cell_type": "markdown",
   "metadata": {},
   "source": [
    "This general analysis has helped us detect some problems with the data (*Solved before in the notebook*) and also has given us important information that will be useful in the future analysis. There are more questions that are needed to be solved in the general analysis but are not for this milestone. They will be solved in future milestones."
   ]
  },
  {
   "cell_type": "markdown",
   "metadata": {},
   "source": [
    "## 4) Starting the core analysis"
   ]
  },
  {
   "cell_type": "markdown",
   "metadata": {},
   "source": [
    "## 5) Conclusions and next steps"
   ]
  }
 ],
 "metadata": {
  "kernelspec": {
   "display_name": "Python 3",
   "language": "python",
   "name": "python3"
  },
  "language_info": {
   "codemirror_mode": {
    "name": "ipython",
    "version": 3
   },
   "file_extension": ".py",
   "mimetype": "text/x-python",
   "name": "python",
   "nbconvert_exporter": "python",
   "pygments_lexer": "ipython3",
   "version": "3.7.3"
  }
 },
 "nbformat": 4,
 "nbformat_minor": 2
}
